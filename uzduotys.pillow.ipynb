{
 "cells": [
  {
   "cell_type": "code",
   "execution_count": 13,
   "metadata": {},
   "outputs": [],
   "source": [
    "from PIL import Image, ImageEnhance\n",
    "import os"
   ]
  },
  {
   "cell_type": "code",
   "execution_count": 2,
   "metadata": {},
   "outputs": [
    {
     "data": {
      "image/png": "[encoded data removed]",
      "text/plain": [
       "<PIL.PngImagePlugin.PngImageFile image mode=RGBA size=128x128>"
      ]
     },
     "execution_count": 2,
     "metadata": {},
     "output_type": "execute_result"
    }
   ],
   "source": [
    "logo = Image.open('images/logo.png')\n",
    "logo"
   ]
  },
  {
   "cell_type": "code",
   "execution_count": 4,
   "metadata": {},
   "outputs": [
    {
     "data": {
      "text/plain": [
       "(128, 128)"
      ]
     },
     "execution_count": 4,
     "metadata": {},
     "output_type": "execute_result"
    }
   ],
   "source": [
    "logo.size"
   ]
  },
  {
   "cell_type": "code",
   "execution_count": 8,
   "metadata": {},
   "outputs": [
    {
     "data": {
      "image/png": "[encoded data removed]",
      "text/plain": [
       "<PIL.Image.Image image mode=RGBA size=128x72>"
      ]
     },
     "execution_count": 8,
     "metadata": {},
     "output_type": "execute_result"
    }
   ],
   "source": [
    "croplogo = logo.crop((0, 28, 128, 100))\n",
    "croplogo"
   ]
  },
  {
   "cell_type": "code",
   "execution_count": null,
   "metadata": {},
   "outputs": [],
   "source": [
    "# sukurkite funkciją, kuri priimtų\n",
    "#     paveikslėlį\n",
    "#     kontrasto, spalvingumo, aštrumo ir ryškumo reikšmes\n",
    "#     išsaugoti ar ne reikšmę"
   ]
  },
  {
   "cell_type": "code",
   "execution_count": 14,
   "metadata": {},
   "outputs": [],
   "source": [
    "def change_picture(picture, contrast, color, sharpness, brightness, save=False):\n",
    "    img = Image.open(picture)\n",
    "    enchance_img = ImageEnhance.Contrast(img)\n",
    "    img = enchance_img.enhance(contrast)\n",
    "    enchance_img = ImageEnhance.Color(img)\n",
    "    img = enchance_img.enhance(color)\n",
    "    enchance_img = ImageEnhance.Sharpness(img)\n",
    "    img = enchance_img.enhance(sharpness)\n",
    "    enchance_img = ImageEnhance.Brightness(img)\n",
    "    img = enchance_img.enhance(brightness)\n",
    "    if save:\n",
    "        loc = os.path.splitext(picture)[0]\n",
    "        ext = os.path.splitext(picture)[1]\n",
    "        img.save(f'{loc}_modified{ext}')\n",
    "    img.show()   "
   ]
  },
  {
   "cell_type": "code",
   "execution_count": 15,
   "metadata": {},
   "outputs": [],
   "source": [
    "change_picture('images/dog.jpg', 1, 0.5, 0, 1.5, True)"
   ]
  },
  {
   "cell_type": "code",
   "execution_count": null,
   "metadata": {},
   "outputs": [],
   "source": [
    "# Sukurkite programą, kuri, gavusi nuorodą į katalogą, praiteruos visus jame esančius failus, išrinks nuotraukas, pakeis dydį pagal jūsų nurodytą aukštį išlaikant proporcijas\n",
    "# kiekvienos nuotraukos apatiniame dešiniajame kampe įdės logotipą, tą kurį išsisaugojote pirmoje užduotyje\n",
    "# Naudokite .resize, kadangi nuotrauką galbūt reikės padidinti, nebūtinai tik sumažinti."
   ]
  },
  {
   "cell_type": "code",
   "execution_count": null,
   "metadata": {},
   "outputs": [],
   "source": [
    "# Parašykite programą, kuriai padavus nuotrauką ir R G B reikšmes, ji pakoreguotų kiekvieną pikselį atitinkamai. T.y. jeigu reikšmė teigiama - pridėtų, jeigu neigiama - atimtų\n",
    "# Neleiskite galutinėms reikšmėms būti mažesnėmis už nulį ir didesnėmis už 255!"
   ]
  },
  {
   "cell_type": "code",
   "execution_count": null,
   "metadata": {},
   "outputs": [],
   "source": [
    "# Parašykite programą, kuriai padavus nuotrauką, ir nurodžius pikselio R G B reikšmes, visi pikseliai, kurių nors viena reikšmė viršija jūsų nurodytą ribą, būtų pakeisti juodais, o likusieji baltais."
   ]
  }
 ],
 "metadata": {
  "kernelspec": {
   "display_name": "venv",
   "language": "python",
   "name": "python3"
  },
  "language_info": {
   "codemirror_mode": {
    "name": "ipython",
    "version": 3
   },
   "file_extension": ".py",
   "mimetype": "text/x-python",
   "name": "python",
   "nbconvert_exporter": "python",
   "pygments_lexer": "ipython3",
   "version": "3.10.9"
  },
  "orig_nbformat": 4,
  "vscode": {
   "interpreter": {
    "hash": "c45aa5459b9a1cefa759617f524b65e98df9772569b55aaad1035e6eb843a449"
   }
  }
 },
 "nbformat": 4,
 "nbformat_minor": 2
}
