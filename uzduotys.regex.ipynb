{
 "cells": [
  {
   "cell_type": "code",
   "execution_count": 1,
   "metadata": {},
   "outputs": [],
   "source": [
    "import re"
   ]
  },
  {
   "attachments": {},
   "cell_type": "markdown",
   "metadata": {},
   "source": [
    "### parašykite funkciją, kuri įvestą datą (formatas dd.mm.yyyy) keistų į yyyy mm dd. Dėl datų logikos nesirūpinkite, dirbame grynai su tekstu."
   ]
  },
  {
   "cell_type": "code",
   "execution_count": 5,
   "metadata": {},
   "outputs": [],
   "source": [
    "def date_change(date):\n",
    "    date_type = re.compile(r'^(?P<day>\\d{2})\\.(?P<month>\\d{2})\\.(?P<year>\\d{4})$')\n",
    "    date_new_type = date_type.sub('\\g<year> \\g<month> \\g<day>', date)\n",
    "    return date_new_type"
   ]
  },
  {
   "cell_type": "code",
   "execution_count": 6,
   "metadata": {},
   "outputs": [
    {
     "data": {
      "text/plain": [
       "'2023 12 15'"
      ]
     },
     "execution_count": 6,
     "metadata": {},
     "output_type": "execute_result"
    }
   ],
   "source": [
    "date_change('15.12.2023')"
   ]
  },
  {
   "cell_type": "code",
   "execution_count": 20,
   "metadata": {},
   "outputs": [],
   "source": [
    "# Iš šio teksto atspausdinkite datų sąrašą.\n",
    "text = '''\n",
    "Workshop & Tutorial proposals: November 21, 2019\n",
    "Notification of acceptance: December 1, 2019\n",
    "Workshop & Tutorial websites online: December 18, 2019\n",
    "Workshop papers: February 28, 2020\n",
    "Workshop paper notifications: March 27, 2020\n",
    "Workshop paper camera-ready versions: April 10, 2020\n",
    "Tutorial material due (online): April 10, 2020\n",
    "'''"
   ]
  },
  {
   "cell_type": "code",
   "execution_count": 9,
   "metadata": {},
   "outputs": [
    {
     "name": "stdout",
     "output_type": "stream",
     "text": [
      "['November 21, 2019', 'December 1, 2019', 'December 18, 2019', 'February 28, 2020', 'March 27, 2020', 'April 10, 2020', 'April 10, 2020']\n"
     ]
    }
   ],
   "source": [
    "find_date = re.compile(r'[A-Z]{1}[a-z]\\w*\\b\\s\\d{1,2},\\s\\d{4}')\n",
    "date_list = find_date.findall(text)\n",
    "print(date_list)"
   ]
  },
  {
   "cell_type": "code",
   "execution_count": 58,
   "metadata": {},
   "outputs": [],
   "source": [
    "def split_text(text):\n",
    "    split_filter = re.compile(r'(?P<event>.*?):\\s(?P<date>[A-Z]{1}[a-z]\\w*\\b\\s\\d{1,2},\\s\\d{4})')\n",
    "    number = 0\n",
    "    for line in text.splitlines():\n",
    "        filter_result = split_filter.search(line)\n",
    "        if filter_result:\n",
    "            number += 1\n",
    "            print(f\"\"\"\n",
    "{number}.\n",
    "Event:  {filter_result.group('event')}\n",
    "Date:   {filter_result.group('date')}\n",
    "\"\"\")\n",
    "        else:\n",
    "            print('Nothing found')"
   ]
  },
  {
   "cell_type": "code",
   "execution_count": 59,
   "metadata": {},
   "outputs": [
    {
     "name": "stdout",
     "output_type": "stream",
     "text": [
      "Nothing found\n",
      "\n",
      "1.\n",
      "Event:  Workshop & Tutorial proposals\n",
      "Date:   November 21, 2019\n",
      "\n",
      "\n",
      "2.\n",
      "Event:  Notification of acceptance\n",
      "Date:   December 1, 2019\n",
      "\n",
      "\n",
      "3.\n",
      "Event:  Workshop & Tutorial websites online\n",
      "Date:   December 18, 2019\n",
      "\n",
      "\n",
      "4.\n",
      "Event:  Workshop papers\n",
      "Date:   February 28, 2020\n",
      "\n",
      "\n",
      "5.\n",
      "Event:  Workshop paper notifications\n",
      "Date:   March 27, 2020\n",
      "\n",
      "\n",
      "6.\n",
      "Event:  Workshop paper camera-ready versions\n",
      "Date:   April 10, 2020\n",
      "\n",
      "\n",
      "7.\n",
      "Event:  Tutorial material due (online)\n",
      "Date:   April 10, 2020\n",
      "\n"
     ]
    }
   ],
   "source": [
    "split_text(text)"
   ]
  },
  {
   "attachments": {},
   "cell_type": "markdown",
   "metadata": {},
   "source": [
    "### Parašykite funkciją, kuri į parametrus priimtų tekstą ir žodžių, kuriuos reikia jame išcenzūruoti sąrašą. Pvz, žodis \"kvaraba\" yra baisus keiksmažodis, ir mums reikia duotame tekste pakeisti k*****a. Pradėkite maždaug taip:"
   ]
  },
  {
   "cell_type": "code",
   "execution_count": 281,
   "metadata": {},
   "outputs": [],
   "source": [
    "def censorship(text, *curses):\n",
    "    word_search = re.compile(r'([A-Za-ząčęėįšųūž])')\n",
    "    for word in curses:\n",
    "        filter_result = word_search.search(word)\n",
    "        censored_word = len(filter_result.group()) * '*'\n",
    "        censored = word_search.sub(censored_word, word[1:-2])\n",
    "        censored_final = (word[0] + censored + word[-1])\n",
    "        text = text.replace(word, censored_final)\n",
    "    print(text)\n",
    "\n",
    "    # \\g<0> <-- duoda pirma raide"
   ]
  },
  {
   "cell_type": "code",
   "execution_count": 282,
   "metadata": {},
   "outputs": [
    {
     "name": "stdout",
     "output_type": "stream",
     "text": [
      "baisūs žodžiai, tokie kaip k****a, ž***s\n"
     ]
    }
   ],
   "source": [
    "censorship('baisūs žodžiai, tokie kaip kvaraba, žaltys', 'kvaraba', 'žaltys')"
   ]
  },
  {
   "cell_type": "code",
   "execution_count": 147,
   "metadata": {},
   "outputs": [
    {
     "name": "stdout",
     "output_type": "stream",
     "text": [
      "youtube.com\n",
      "en.wikipe\n",
      "dia.org\n",
      "facebook.com\n",
      "twitter.com\n",
      "amazon.com\n",
      "imdb.com\n",
      "reddit.com\n",
      "pinterest.com\n",
      "ebay.com\n",
      "tripadvisor.com\n",
      "craigslist.org\n",
      "walmart.com\n",
      "instagram.com\n",
      "google.com\n",
      "nytimes.com\n",
      "apple.com\n",
      "linkedin.com\n",
      "indeed.com\n",
      "play.google\n",
      "espn.com\n",
      "webmd.com\n",
      "cnn.com\n",
      "homedepot.com\n",
      "etsy.com\n",
      "netflix.com\n",
      "quora.com\n",
      "microsoft.com\n",
      "target.com\n",
      "webster.com\n",
      "forbes.com\n",
      "mapquest.com\n",
      "nih.gov\n",
      "gamepedia.com\n",
      "yahoo.com\n",
      "healthline.com\n",
      "foxnews.com\n",
      "allrecipes.com\n",
      "quizlet.com\n",
      "weather.com\n",
      "bestbuy.com\n",
      "urbandictionary.com\n",
      "mayoclinic.org\n",
      "aol.com\n",
      "genius.com\n",
      "zillow.com\n",
      "usatoday.com\n",
      "glassdoor.com\n",
      "msn.com\n",
      "rottentomatoes.com\n",
      "lowes.com\n",
      "dictionary.com\n",
      "businessinsider.com\n",
      "usnews.com\n",
      "medicalnewstoday.com\n",
      "britannica.com\n",
      "washingtonpost.com\n",
      "usps.com\n",
      "finance.yahoo\n",
      "irs.gov\n",
      "yellowpages.com\n",
      "chase.com\n",
      "retailmenot.com\n",
      "accuweather.com\n",
      "wayfair.com\n",
      "go.com\n",
      "live.com\n",
      "login.yahoo\n",
      "steamcommunity.com\n",
      "xfinity.com\n",
      "cnet.com\n",
      "ign.com\n",
      "steampowered.com\n",
      "macys.com\n",
      "wikihow.com\n",
      "mail.yahoo\n",
      "wiktionary.org\n",
      "cbssports.com\n",
      "cnbc.com\n",
      "bankofamerica.com\n",
      "expedia.com\n",
      "wellsfargo.com\n",
      "groupon.com\n",
      "twitch.tv\n",
      "khanacademy.org\n",
      "theguardian.com\n",
      "paypal.com\n",
      "spotify.com\n",
      "att.com\n",
      "nfl.com\n",
      "realtor.com\n",
      "ca.gov\n",
      "goodreads.com\n",
      "office.com\n",
      "ufl.edu\n",
      "mlb.com\n",
      "foodnetwork.com\n",
      "bbc.com\n",
      "apartments.com\n",
      "npr.org\n",
      "wowhead.com\n"
     ]
    }
   ],
   "source": [
    "html_link = open('text/most_visited.html', 'r')\n",
    "read_file = html_link.read()\n",
    "name_search = re.compile(r'\\w+\\.\\w{2,6}')\n",
    "name_result = name_search.findall(read_file)\n",
    "for url in name_result:\n",
    "    print(url)"
   ]
  }
 ],
 "metadata": {
  "kernelspec": {
   "display_name": "venv",
   "language": "python",
   "name": "python3"
  },
  "language_info": {
   "codemirror_mode": {
    "name": "ipython",
    "version": 3
   },
   "file_extension": ".py",
   "mimetype": "text/x-python",
   "name": "python",
   "nbconvert_exporter": "python",
   "pygments_lexer": "ipython3",
   "version": "3.10.9"
  },
  "orig_nbformat": 4,
  "vscode": {
   "interpreter": {
    "hash": "c45aa5459b9a1cefa759617f524b65e98df9772569b55aaad1035e6eb843a449"
   }
  }
 },
 "nbformat": 4,
 "nbformat_minor": 2
}
