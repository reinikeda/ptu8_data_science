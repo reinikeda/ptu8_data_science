{
 "cells": [
  {
   "attachments": {},
   "cell_type": "markdown",
   "metadata": {},
   "source": [
    "## masyvai ir matricos"
   ]
  },
  {
   "cell_type": "code",
   "execution_count": 174,
   "metadata": {},
   "outputs": [],
   "source": [
    "import numpy as np"
   ]
  },
  {
   "cell_type": "code",
   "execution_count": 175,
   "metadata": {},
   "outputs": [],
   "source": [
    "sarasas = [2, 7, 5, 6, 12, 14, 15, 22, 3]"
   ]
  },
  {
   "cell_type": "code",
   "execution_count": 176,
   "metadata": {},
   "outputs": [
    {
     "name": "stdout",
     "output_type": "stream",
     "text": [
      "[ 2  7  5  6 12 14 15 22  3] <class 'numpy.ndarray'>\n"
     ]
    }
   ],
   "source": [
    "masyvas = np.array(sarasas)\n",
    "print(masyvas, type(masyvas))"
   ]
  },
  {
   "cell_type": "code",
   "execution_count": 177,
   "metadata": {},
   "outputs": [],
   "source": [
    "sugrupuotas = [[2, 7, 5], [6, 212, 14], [15, 1, 22]]"
   ]
  },
  {
   "cell_type": "code",
   "execution_count": 178,
   "metadata": {},
   "outputs": [
    {
     "name": "stdout",
     "output_type": "stream",
     "text": [
      "[[  2   7   5]\n",
      " [  6 212  14]\n",
      " [ 15   1  22]]\n"
     ]
    }
   ],
   "source": [
    "matrica = np.array(sugrupuotas)\n",
    "print(matrica)"
   ]
  },
  {
   "cell_type": "code",
   "execution_count": 179,
   "metadata": {},
   "outputs": [
    {
     "name": "stdout",
     "output_type": "stream",
     "text": [
      "[ 0  3  6  9 12 15 18 21 24 27] <class 'numpy.ndarray'>\n"
     ]
    }
   ],
   "source": [
    "imtis = np.arange(0, 30, 3)\n",
    "print(imtis, type(imtis))"
   ]
  },
  {
   "cell_type": "code",
   "execution_count": 180,
   "metadata": {},
   "outputs": [
    {
     "name": "stdout",
     "output_type": "stream",
     "text": [
      "[0. 0. 0. 0. 0. 0. 0. 0. 0. 0.]\n"
     ]
    }
   ],
   "source": [
    "nuliai = np.zeros(10)\n",
    "print(nuliai)"
   ]
  },
  {
   "cell_type": "code",
   "execution_count": 181,
   "metadata": {},
   "outputs": [
    {
     "name": "stdout",
     "output_type": "stream",
     "text": [
      "[[0. 0. 0. 0. 0. 0.]\n",
      " [0. 0. 0. 0. 0. 0.]\n",
      " [0. 0. 0. 0. 0. 0.]\n",
      " [0. 0. 0. 0. 0. 0.]\n",
      " [0. 0. 0. 0. 0. 0.]\n",
      " [0. 0. 0. 0. 0. 0.]]\n"
     ]
    }
   ],
   "source": [
    "nuliai_matrica = np.zeros((6, 6))\n",
    "print(nuliai_matrica)"
   ]
  },
  {
   "cell_type": "code",
   "execution_count": 182,
   "metadata": {},
   "outputs": [
    {
     "name": "stdout",
     "output_type": "stream",
     "text": [
      "[[1. 0. 0. 0. 0. 0.]\n",
      " [0. 1. 0. 0. 0. 0.]\n",
      " [0. 0. 1. 0. 0. 0.]\n",
      " [0. 0. 0. 1. 0. 0.]\n",
      " [0. 0. 0. 0. 1. 0.]\n",
      " [0. 0. 0. 0. 0. 1.]]\n"
     ]
    }
   ],
   "source": [
    "akis = np.eye(6)\n",
    "print(akis)"
   ]
  },
  {
   "cell_type": "code",
   "execution_count": 183,
   "metadata": {},
   "outputs": [
    {
     "data": {
      "text/plain": [
       "array([1., 0., 0., 0., 0., 0.])"
      ]
     },
     "execution_count": 183,
     "metadata": {},
     "output_type": "execute_result"
    }
   ],
   "source": [
    "akis[0]\n",
    "# pirmas stulpelis"
   ]
  },
  {
   "cell_type": "code",
   "execution_count": 184,
   "metadata": {},
   "outputs": [
    {
     "data": {
      "text/plain": [
       "1.0"
      ]
     },
     "execution_count": 184,
     "metadata": {},
     "output_type": "execute_result"
    }
   ],
   "source": [
    "akis[0][0]\n",
    "# pirmas simbolis"
   ]
  },
  {
   "cell_type": "code",
   "execution_count": 185,
   "metadata": {},
   "outputs": [
    {
     "data": {
      "text/plain": [
       "array([[1., 0., 0., 3., 0., 0.],\n",
       "       [0., 1., 0., 0., 0., 0.],\n",
       "       [0., 2., 1., 0., 0., 0.],\n",
       "       [0., 0., 0., 1., 0., 0.],\n",
       "       [0., 0., 0., 0., 1., 0.],\n",
       "       [0., 0., 0., 0., 0., 1.]])"
      ]
     },
     "execution_count": 185,
     "metadata": {},
     "output_type": "execute_result"
    }
   ],
   "source": [
    "akis [0][3] = 3\n",
    "akis [2][1] = 2\n",
    "akis"
   ]
  },
  {
   "cell_type": "code",
   "execution_count": 186,
   "metadata": {},
   "outputs": [
    {
     "data": {
      "text/plain": [
       "array([10. , 12.5, 15. , 17.5, 20. ])"
      ]
     },
     "execution_count": 186,
     "metadata": {},
     "output_type": "execute_result"
    }
   ],
   "source": [
    "np.linspace(10, 20, 5)"
   ]
  },
  {
   "cell_type": "code",
   "execution_count": 187,
   "metadata": {},
   "outputs": [
    {
     "data": {
      "text/plain": [
       "array([0. , 0.5, 1. ])"
      ]
     },
     "execution_count": 187,
     "metadata": {},
     "output_type": "execute_result"
    }
   ],
   "source": [
    "np.linspace(0, 1, 3)"
   ]
  },
  {
   "attachments": {},
   "cell_type": "markdown",
   "metadata": {},
   "source": [
    "## random arrays"
   ]
  },
  {
   "cell_type": "code",
   "execution_count": 188,
   "metadata": {},
   "outputs": [
    {
     "data": {
      "text/plain": [
       "array([0.60265335, 0.98788883, 0.84295524, 0.82975434, 0.72773259,\n",
       "       0.06031677, 0.04002053, 0.86899955, 0.21098224, 0.52306089])"
      ]
     },
     "execution_count": 188,
     "metadata": {},
     "output_type": "execute_result"
    }
   ],
   "source": [
    "np.random.rand(10)"
   ]
  },
  {
   "cell_type": "code",
   "execution_count": 189,
   "metadata": {},
   "outputs": [
    {
     "data": {
      "text/plain": [
       "array([[0.43287666, 0.30690915, 0.49839629, 0.37137867, 0.86616308,\n",
       "        0.82282597, 0.91261224, 0.51442312, 0.23904284, 0.95427294],\n",
       "       [0.02339226, 0.26123494, 0.21732415, 0.60821339, 0.66672991,\n",
       "        0.23980268, 0.97396584, 0.8231469 , 0.4084982 , 0.04682261],\n",
       "       [0.91635401, 0.0078018 , 0.50562152, 0.75148954, 0.88329391,\n",
       "        0.21208227, 0.78341177, 0.9897908 , 0.87606619, 0.66542887],\n",
       "       [0.00514635, 0.78170379, 0.75944314, 0.04536993, 0.70403941,\n",
       "        0.49530515, 0.90463645, 0.69667556, 0.98494415, 0.54773153],\n",
       "       [0.44597174, 0.43664031, 0.63381609, 0.65245544, 0.10508807,\n",
       "        0.94603333, 0.82575727, 0.10758876, 0.96326543, 0.27246801],\n",
       "       [0.64656911, 0.18496516, 0.29019561, 0.7251377 , 0.66243291,\n",
       "        0.23572615, 0.48247476, 0.00968152, 0.04601884, 0.57654541],\n",
       "       [0.23405227, 0.41886443, 0.40352776, 0.67507905, 0.67157529,\n",
       "        0.59309391, 0.01713539, 0.01780304, 0.04184299, 0.89593657],\n",
       "       [0.02964405, 0.96886219, 0.78148433, 0.41145898, 0.59512709,\n",
       "        0.35404411, 0.79884743, 0.13498608, 0.95597922, 0.73088125],\n",
       "       [0.30424687, 0.59913265, 0.27949383, 0.64527321, 0.93161591,\n",
       "        0.10203086, 0.52816377, 0.4432902 , 0.95002822, 0.46374016],\n",
       "       [0.15070224, 0.15009767, 0.35624846, 0.73140659, 0.45324382,\n",
       "        0.99302131, 0.54656606, 0.43064424, 0.49898419, 0.11171248]])"
      ]
     },
     "execution_count": 189,
     "metadata": {},
     "output_type": "execute_result"
    }
   ],
   "source": [
    "np.random.rand(10, 10)"
   ]
  },
  {
   "cell_type": "code",
   "execution_count": 190,
   "metadata": {},
   "outputs": [
    {
     "data": {
      "text/plain": [
       "array([[ -6.04734015,   0.26670017,  -4.82626629,   4.8937347 ,\n",
       "         -1.32016537],\n",
       "       [-13.4639701 ,  -3.27712445, -11.94760188,   3.15144804,\n",
       "        -10.51547296],\n",
       "       [  8.81933345,  -4.70000229,  -8.96667779,  -6.2299968 ,\n",
       "         14.58061144],\n",
       "       [ 11.91587215,  -1.20561896,   1.28144167,  -0.93525219,\n",
       "         -5.254744  ],\n",
       "       [ 13.5603944 ,   6.17939101,   6.09518287,   3.20067777,\n",
       "         -8.19685227]])"
      ]
     },
     "execution_count": 190,
     "metadata": {},
     "output_type": "execute_result"
    }
   ],
   "source": [
    "np.random.randn(5, 5) * 10"
   ]
  },
  {
   "cell_type": "code",
   "execution_count": 191,
   "metadata": {},
   "outputs": [
    {
     "data": {
      "text/plain": [
       "array([139, 185, 114, 194, 172, 167, 123, 103, 129, 105])"
      ]
     },
     "execution_count": 191,
     "metadata": {},
     "output_type": "execute_result"
    }
   ],
   "source": [
    "np.random.randint(100, 200, 10)"
   ]
  },
  {
   "attachments": {},
   "cell_type": "markdown",
   "metadata": {},
   "source": [
    "## masyvu pertvarka"
   ]
  },
  {
   "cell_type": "code",
   "execution_count": 192,
   "metadata": {},
   "outputs": [
    {
     "data": {
      "text/plain": [
       "array([595, 495, 448, 649, 799, 840, 723, 113, 274, 171, 138, 771, 424,\n",
       "       972, 161, 386, 804, 691, 610, 259, 305, 361, 700, 815, 456, 831,\n",
       "       323, 869, 629, 655, 467, 567, 966, 805, 317, 830, 133, 783, 662,\n",
       "       197, 207, 731, 992, 415, 139, 548, 470, 258, 451, 639, 249, 711,\n",
       "       100, 868, 586, 929, 924, 553, 398, 144, 278, 829, 929, 221])"
      ]
     },
     "execution_count": 192,
     "metadata": {},
     "output_type": "execute_result"
    }
   ],
   "source": [
    "betko_64 = np.random.randint(100, 999, 64)\n",
    "betko_64"
   ]
  },
  {
   "cell_type": "code",
   "execution_count": 193,
   "metadata": {},
   "outputs": [
    {
     "data": {
      "text/plain": [
       "array([[595, 495, 448, 649, 799, 840, 723, 113],\n",
       "       [274, 171, 138, 771, 424, 972, 161, 386],\n",
       "       [804, 691, 610, 259, 305, 361, 700, 815],\n",
       "       [456, 831, 323, 869, 629, 655, 467, 567],\n",
       "       [966, 805, 317, 830, 133, 783, 662, 197],\n",
       "       [207, 731, 992, 415, 139, 548, 470, 258],\n",
       "       [451, 639, 249, 711, 100, 868, 586, 929],\n",
       "       [924, 553, 398, 144, 278, 829, 929, 221]])"
      ]
     },
     "execution_count": 193,
     "metadata": {},
     "output_type": "execute_result"
    }
   ],
   "source": [
    "betko_8x8 = betko_64.reshape(8, 8)\n",
    "betko_8x8"
   ]
  },
  {
   "cell_type": "code",
   "execution_count": 194,
   "metadata": {},
   "outputs": [
    {
     "name": "stdout",
     "output_type": "stream",
     "text": [
      "[[743 263 773 809 736]\n",
      " [483 670 356 644 663]\n",
      " [734 109 616 994 360]\n",
      " [585 181 197 222 855]]\n"
     ]
    }
   ],
   "source": [
    "betko_20 = np.random.randint(100, 999, 20)\n",
    "betko_4x5 = betko_20.reshape(4, 5)\n",
    "print(betko_4x5)"
   ]
  },
  {
   "attachments": {},
   "cell_type": "markdown",
   "metadata": {},
   "source": [
    "## naudingi metodai"
   ]
  },
  {
   "cell_type": "code",
   "execution_count": 195,
   "metadata": {},
   "outputs": [
    {
     "data": {
      "text/plain": [
       "100"
      ]
     },
     "execution_count": 195,
     "metadata": {},
     "output_type": "execute_result"
    }
   ],
   "source": [
    "# min(betko_64) <- python\n",
    "betko_64.min()"
   ]
  },
  {
   "cell_type": "code",
   "execution_count": 196,
   "metadata": {},
   "outputs": [
    {
     "data": {
      "text/plain": [
       "994"
      ]
     },
     "execution_count": 196,
     "metadata": {},
     "output_type": "execute_result"
    }
   ],
   "source": [
    "# max(betko_20) <- python\n",
    "betko_20.max()"
   ]
  },
  {
   "cell_type": "code",
   "execution_count": 197,
   "metadata": {},
   "outputs": [
    {
     "name": "stdout",
     "output_type": "stream",
     "text": [
      "11 109\n"
     ]
    }
   ],
   "source": [
    "print(betko_20.argmin(), betko_20.min())\n",
    "#              vieta   ir       reiksme"
   ]
  },
  {
   "cell_type": "code",
   "execution_count": 198,
   "metadata": {},
   "outputs": [
    {
     "name": "stdout",
     "output_type": "stream",
     "text": [
      "13 994\n"
     ]
    }
   ],
   "source": [
    "print(betko_20.argmax(), betko_20.max())"
   ]
  },
  {
   "cell_type": "code",
   "execution_count": 199,
   "metadata": {},
   "outputs": [
    {
     "data": {
      "text/plain": [
       "(8, 8)"
      ]
     },
     "execution_count": 199,
     "metadata": {},
     "output_type": "execute_result"
    }
   ],
   "source": [
    "betko_8x8.shape # kintamojo forma"
   ]
  },
  {
   "cell_type": "code",
   "execution_count": 200,
   "metadata": {},
   "outputs": [
    {
     "data": {
      "text/plain": [
       "(20,)"
      ]
     },
     "execution_count": 200,
     "metadata": {},
     "output_type": "execute_result"
    }
   ],
   "source": [
    "betko_20.shape"
   ]
  },
  {
   "cell_type": "code",
   "execution_count": 201,
   "metadata": {},
   "outputs": [
    {
     "data": {
      "text/plain": [
       "dtype('int32')"
      ]
     },
     "execution_count": 201,
     "metadata": {},
     "output_type": "execute_result"
    }
   ],
   "source": [
    "betko_20.dtype # tipas"
   ]
  },
  {
   "attachments": {},
   "cell_type": "markdown",
   "metadata": {},
   "source": [
    "## indeksacija ir reiksmiu traukimas"
   ]
  },
  {
   "cell_type": "code",
   "execution_count": 202,
   "metadata": {},
   "outputs": [
    {
     "data": {
      "text/plain": [
       "array([743, 263, 773, 809, 736, 483, 670, 356, 644, 663, 734, 109, 616,\n",
       "       994, 360, 585, 181, 197, 222, 855])"
      ]
     },
     "execution_count": 202,
     "metadata": {},
     "output_type": "execute_result"
    }
   ],
   "source": [
    "betko_20"
   ]
  },
  {
   "cell_type": "code",
   "execution_count": 203,
   "metadata": {},
   "outputs": [
    {
     "data": {
      "text/plain": [
       "773"
      ]
     },
     "execution_count": 203,
     "metadata": {},
     "output_type": "execute_result"
    }
   ],
   "source": [
    "betko_20[2]"
   ]
  },
  {
   "cell_type": "code",
   "execution_count": 204,
   "metadata": {},
   "outputs": [
    {
     "data": {
      "text/plain": [
       "array([773, 809, 736])"
      ]
     },
     "execution_count": 204,
     "metadata": {},
     "output_type": "execute_result"
    }
   ],
   "source": [
    "betko_20[2:5]"
   ]
  },
  {
   "cell_type": "code",
   "execution_count": 205,
   "metadata": {},
   "outputs": [
    {
     "data": {
      "text/plain": [
       "array([743, 773, 736, 670, 644, 734, 616, 360, 181, 222])"
      ]
     },
     "execution_count": 205,
     "metadata": {},
     "output_type": "execute_result"
    }
   ],
   "source": [
    "betko_20[::2]"
   ]
  },
  {
   "cell_type": "code",
   "execution_count": 206,
   "metadata": {},
   "outputs": [],
   "source": [
    "betko_20[-5] = 777\n",
    "# pakeicia reiksme"
   ]
  },
  {
   "cell_type": "code",
   "execution_count": 207,
   "metadata": {},
   "outputs": [
    {
     "data": {
      "text/plain": [
       "array([743, 263, 773, 809, 736, 483, 670, 356, 644, 663, 734, 109, 616,\n",
       "       994, 360, 777, 181, 197, 222, 855])"
      ]
     },
     "execution_count": 207,
     "metadata": {},
     "output_type": "execute_result"
    }
   ],
   "source": [
    "betko_20"
   ]
  },
  {
   "cell_type": "code",
   "execution_count": 208,
   "metadata": {},
   "outputs": [
    {
     "data": {
      "text/plain": [
       "array([[595, 495, 448, 649, 799, 840, 723, 113],\n",
       "       [274, 171, 138, 771, 424, 972, 161, 386],\n",
       "       [804, 691, 610, 259, 305, 361, 700, 815],\n",
       "       [456, 831, 323, 869, 629, 655, 467, 567],\n",
       "       [966, 805, 317, 830, 133, 783, 662, 197],\n",
       "       [207, 731, 992, 415, 139, 548, 470, 258],\n",
       "       [451, 639, 249, 711, 100, 868, 586, 929],\n",
       "       [924, 553, 398, 144, 278, 829, 929, 221]])"
      ]
     },
     "execution_count": 208,
     "metadata": {},
     "output_type": "execute_result"
    }
   ],
   "source": [
    "betko_8x8"
   ]
  },
  {
   "cell_type": "code",
   "execution_count": 209,
   "metadata": {},
   "outputs": [
    {
     "data": {
      "text/plain": [
       "array([610, 259, 305])"
      ]
     },
     "execution_count": 209,
     "metadata": {},
     "output_type": "execute_result"
    }
   ],
   "source": [
    "# y, x reiksmes\n",
    "betko_8x8[2,2:5]"
   ]
  },
  {
   "cell_type": "code",
   "execution_count": 210,
   "metadata": {},
   "outputs": [
    {
     "data": {
      "text/plain": [
       "array([[610, 259, 305, 361],\n",
       "       [323, 869, 629, 655],\n",
       "       [317, 830, 133, 783],\n",
       "       [992, 415, 139, 548]])"
      ]
     },
     "execution_count": 210,
     "metadata": {},
     "output_type": "execute_result"
    }
   ],
   "source": [
    "betko_8x8[2:-2, 2:-2]\n",
    "# vidurys 4x4"
   ]
  },
  {
   "cell_type": "code",
   "execution_count": 211,
   "metadata": {},
   "outputs": [
    {
     "data": {
      "text/plain": [
       "array([[548, 470, 258],\n",
       "       [868, 586, 929],\n",
       "       [829, 929, 221]])"
      ]
     },
     "execution_count": 211,
     "metadata": {},
     "output_type": "execute_result"
    }
   ],
   "source": [
    "betko_8x8[-3:, -3:]\n",
    "# paskutines trys eilutes ir stulpeliai 3x3"
   ]
  },
  {
   "attachments": {},
   "cell_type": "markdown",
   "metadata": {},
   "source": [
    "## reiksmiu traukimas pagal salyga"
   ]
  },
  {
   "cell_type": "code",
   "execution_count": 212,
   "metadata": {},
   "outputs": [
    {
     "data": {
      "text/plain": [
       "array([[ True, False, False,  True,  True,  True,  True, False],\n",
       "       [False, False, False,  True, False,  True, False, False],\n",
       "       [ True,  True,  True, False, False, False,  True,  True],\n",
       "       [False,  True, False,  True,  True,  True, False,  True],\n",
       "       [ True,  True, False,  True, False,  True,  True, False],\n",
       "       [False,  True,  True, False, False,  True, False, False],\n",
       "       [False,  True, False,  True, False,  True,  True,  True],\n",
       "       [ True,  True, False, False, False,  True,  True, False]])"
      ]
     },
     "execution_count": 212,
     "metadata": {},
     "output_type": "execute_result"
    }
   ],
   "source": [
    "#  tiesos matrica\n",
    "tiesa_8x8 = betko_8x8 > 500\n",
    "tiesa_8x8"
   ]
  },
  {
   "cell_type": "code",
   "execution_count": 213,
   "metadata": {},
   "outputs": [
    {
     "data": {
      "text/plain": [
       "array([595, 649, 799, 840, 723, 771, 972, 804, 691, 610, 700, 815, 831,\n",
       "       869, 629, 655, 567, 966, 805, 830, 783, 662, 731, 992, 548, 639,\n",
       "       711, 868, 586, 929, 924, 553, 829, 929])"
      ]
     },
     "execution_count": 213,
     "metadata": {},
     "output_type": "execute_result"
    }
   ],
   "source": [
    "betko_8x8[tiesa_8x8]"
   ]
  },
  {
   "cell_type": "code",
   "execution_count": 214,
   "metadata": {},
   "outputs": [
    {
     "data": {
      "text/plain": [
       "array([113, 171, 138, 161, 133, 197, 139, 100, 144])"
      ]
     },
     "execution_count": 214,
     "metadata": {},
     "output_type": "execute_result"
    }
   ],
   "source": [
    "betko_8x8[betko_8x8 < 200]"
   ]
  },
  {
   "attachments": {},
   "cell_type": "markdown",
   "metadata": {},
   "source": [
    "### elgsenos ypatumai"
   ]
  },
  {
   "cell_type": "code",
   "execution_count": 215,
   "metadata": {},
   "outputs": [
    {
     "data": {
      "text/plain": [
       "array([743, 263, 773, 809, 736, 483, 670, 356, 644, 663, 734, 109, 616,\n",
       "       994, 360, 777, 181, 197, 222, 855])"
      ]
     },
     "execution_count": 215,
     "metadata": {},
     "output_type": "execute_result"
    }
   ],
   "source": [
    "betko_20"
   ]
  },
  {
   "cell_type": "code",
   "execution_count": 216,
   "metadata": {},
   "outputs": [
    {
     "data": {
      "text/plain": [
       "array([483, 670, 356, 644, 663, 734, 109, 616, 994, 360])"
      ]
     },
     "execution_count": 216,
     "metadata": {},
     "output_type": "execute_result"
    }
   ],
   "source": [
    "ispjova = betko_20[5:-5]\n",
    "ispjova"
   ]
  },
  {
   "cell_type": "code",
   "execution_count": 217,
   "metadata": {},
   "outputs": [],
   "source": [
    "ispjova[:] = 999"
   ]
  },
  {
   "cell_type": "code",
   "execution_count": 218,
   "metadata": {},
   "outputs": [
    {
     "data": {
      "text/plain": [
       "array([743, 263, 773, 809, 736, 999, 999, 999, 999, 999, 999, 999, 999,\n",
       "       999, 999, 777, 181, 197, 222, 855])"
      ]
     },
     "execution_count": 218,
     "metadata": {},
     "output_type": "execute_result"
    }
   ],
   "source": [
    "betko_20"
   ]
  },
  {
   "cell_type": "code",
   "execution_count": 219,
   "metadata": {},
   "outputs": [
    {
     "data": {
      "text/plain": [
       "array([743, 263, 773, 809, 736, 999, 999, 999, 999, 999, 999, 999, 999,\n",
       "       999, 999, 777, 181, 197, 222, 855])"
      ]
     },
     "execution_count": 219,
     "metadata": {},
     "output_type": "execute_result"
    }
   ],
   "source": [
    "kopija = betko_20.copy()\n",
    "kopija"
   ]
  },
  {
   "cell_type": "code",
   "execution_count": 220,
   "metadata": {},
   "outputs": [
    {
     "data": {
      "text/plain": [
       "array([ True,  True,  True,  True,  True,  True,  True,  True,  True,\n",
       "        True,  True,  True,  True,  True,  True,  True,  True,  True,\n",
       "        True,  True])"
      ]
     },
     "execution_count": 220,
     "metadata": {},
     "output_type": "execute_result"
    }
   ],
   "source": [
    "kopija == betko_20"
   ]
  },
  {
   "cell_type": "code",
   "execution_count": 221,
   "metadata": {},
   "outputs": [
    {
     "data": {
      "text/plain": [
       "array([999, 999, 999, 999, 999, 999, 999, 999, 999, 999])"
      ]
     },
     "execution_count": 221,
     "metadata": {},
     "output_type": "execute_result"
    }
   ],
   "source": [
    "kopijos_ispjova = kopija[5:-5]\n",
    "kopijos_ispjova"
   ]
  },
  {
   "cell_type": "code",
   "execution_count": 222,
   "metadata": {},
   "outputs": [],
   "source": [
    "kopijos_ispjova[:] = np.random.randint(100, 999, 10)"
   ]
  },
  {
   "cell_type": "code",
   "execution_count": 223,
   "metadata": {},
   "outputs": [
    {
     "data": {
      "text/plain": [
       "array([743, 263, 773, 809, 736, 185, 936, 693, 553, 558, 607, 644, 103,\n",
       "       169, 639, 777, 181, 197, 222, 855])"
      ]
     },
     "execution_count": 223,
     "metadata": {},
     "output_type": "execute_result"
    }
   ],
   "source": [
    "kopija"
   ]
  },
  {
   "cell_type": "code",
   "execution_count": 224,
   "metadata": {},
   "outputs": [
    {
     "data": {
      "text/plain": [
       "array([ True,  True,  True,  True,  True, False, False, False, False,\n",
       "       False, False, False, False, False, False,  True,  True,  True,\n",
       "        True,  True])"
      ]
     },
     "execution_count": 224,
     "metadata": {},
     "output_type": "execute_result"
    }
   ],
   "source": [
    "kopija == betko_20"
   ]
  },
  {
   "attachments": {},
   "cell_type": "markdown",
   "metadata": {},
   "source": [
    "## matematines operacijos ir funkcijos"
   ]
  },
  {
   "cell_type": "code",
   "execution_count": 231,
   "metadata": {},
   "outputs": [
    {
     "name": "stdout",
     "output_type": "stream",
     "text": [
      "[22 77 49 59 78 16 60 85 74 33] [31 82 40 42 16 51 42 45 32 68]\n"
     ]
    }
   ],
   "source": [
    "pirmi_10 = np.random.randint(0, 99, 10)\n",
    "antri_10 = np.random.randint(0, 99, 10)\n",
    "print(pirmi_10, antri_10)"
   ]
  },
  {
   "cell_type": "code",
   "execution_count": 232,
   "metadata": {},
   "outputs": [
    {
     "data": {
      "text/plain": [
       "array([ 53, 159,  89, 101,  94,  67, 102, 130, 106, 101])"
      ]
     },
     "execution_count": 232,
     "metadata": {},
     "output_type": "execute_result"
    }
   ],
   "source": [
    "pirmi_10 + antri_10"
   ]
  },
  {
   "cell_type": "code",
   "execution_count": 233,
   "metadata": {},
   "outputs": [
    {
     "data": {
      "text/plain": [
       "array([ 682, 6314, 1960, 2478, 1248,  816, 2520, 3825, 2368, 2244])"
      ]
     },
     "execution_count": 233,
     "metadata": {},
     "output_type": "execute_result"
    }
   ],
   "source": [
    "pirmi_10 * antri_10"
   ]
  },
  {
   "cell_type": "code",
   "execution_count": 234,
   "metadata": {},
   "outputs": [
    {
     "data": {
      "text/plain": [
       "array([0.70967742, 0.93902439, 1.225     , 1.4047619 , 4.875     ,\n",
       "       0.31372549, 1.42857143, 1.88888889, 2.3125    , 0.48529412])"
      ]
     },
     "execution_count": 234,
     "metadata": {},
     "output_type": "execute_result"
    }
   ],
   "source": [
    "pirmi_10 / antri_10"
   ]
  },
  {
   "cell_type": "code",
   "execution_count": 235,
   "metadata": {},
   "outputs": [
    {
     "data": {
      "text/plain": [
       "array([ 10648, 456533, 117649, 205379, 474552,   4096, 216000, 614125,\n",
       "       405224,  35937], dtype=int32)"
      ]
     },
     "execution_count": 235,
     "metadata": {},
     "output_type": "execute_result"
    }
   ],
   "source": [
    "pirmi_10 ** 3"
   ]
  },
  {
   "cell_type": "code",
   "execution_count": 237,
   "metadata": {},
   "outputs": [
    {
     "data": {
      "text/plain": [
       "array([-1796951359,  2108376064,  1073741824, -2051251200,           0,\n",
       "         695354697, -2051251200,  -655691255,           0,  -636485632],\n",
       "      dtype=int32)"
      ]
     },
     "execution_count": 237,
     "metadata": {},
     "output_type": "execute_result"
    }
   ],
   "source": [
    "antri_10 ** 10"
   ]
  },
  {
   "cell_type": "code",
   "execution_count": 238,
   "metadata": {},
   "outputs": [
    {
     "data": {
      "text/plain": [
       "array([-0.00885131,  0.99952016, -0.95375265,  0.63673801,  0.51397846,\n",
       "       -0.28790332, -0.30481062, -0.17607562, -0.98514626,  0.99991186])"
      ]
     },
     "execution_count": 238,
     "metadata": {},
     "output_type": "execute_result"
    }
   ],
   "source": [
    "np.sin(pirmi_10)"
   ]
  },
  {
   "cell_type": "code",
   "execution_count": 239,
   "metadata": {},
   "outputs": [
    {
     "data": {
      "text/plain": [
       "array([3.09104245, 4.34380542, 3.8918203 , 4.07753744, 4.35670883,\n",
       "       2.77258872, 4.09434456, 4.44265126, 4.30406509, 3.49650756])"
      ]
     },
     "execution_count": 239,
     "metadata": {},
     "output_type": "execute_result"
    }
   ],
   "source": [
    "np.log(pirmi_10)"
   ]
  }
 ],
 "metadata": {
  "kernelspec": {
   "display_name": "venv",
   "language": "python",
   "name": "python3"
  },
  "language_info": {
   "codemirror_mode": {
    "name": "ipython",
    "version": 3
   },
   "file_extension": ".py",
   "mimetype": "text/x-python",
   "name": "python",
   "nbconvert_exporter": "python",
   "pygments_lexer": "ipython3",
   "version": "3.10.9"
  },
  "orig_nbformat": 4,
  "vscode": {
   "interpreter": {
    "hash": "c45aa5459b9a1cefa759617f524b65e98df9772569b55aaad1035e6eb843a449"
   }
  }
 },
 "nbformat": 4,
 "nbformat_minor": 2
}
