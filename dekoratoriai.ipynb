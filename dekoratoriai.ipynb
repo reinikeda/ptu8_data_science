{
 "cells": [
  {
   "attachments": {},
   "cell_type": "markdown",
   "metadata": {},
   "source": [
    "### dekoratoriai I"
   ]
  },
  {
   "cell_type": "code",
   "execution_count": 75,
   "metadata": {},
   "outputs": [],
   "source": [
    "def return_string(obj):\n",
    "    return str(obj)"
   ]
  },
  {
   "cell_type": "code",
   "execution_count": 76,
   "metadata": {},
   "outputs": [],
   "source": [
    "def return_reversed_string(text):\n",
    "    return text[::-1]"
   ]
  },
  {
   "cell_type": "code",
   "execution_count": 77,
   "metadata": {},
   "outputs": [],
   "source": [
    "def return_upper_string(text, func):\n",
    "    if type(text) != str:\n",
    "        raise ValueError('text must be string')\n",
    "    processed_text = func(text)\n",
    "    return processed_text.upper()"
   ]
  },
  {
   "cell_type": "code",
   "execution_count": 78,
   "metadata": {},
   "outputs": [
    {
     "name": "stdout",
     "output_type": "stream",
     "text": [
      "HIGHER ORDER FUNCTION\n"
     ]
    }
   ],
   "source": [
    "print(return_upper_string('higher order function', return_string))"
   ]
  },
  {
   "cell_type": "code",
   "execution_count": 79,
   "metadata": {},
   "outputs": [
    {
     "name": "stdout",
     "output_type": "stream",
     "text": [
      "NOITCNUF REDRO REHGIH\n"
     ]
    }
   ],
   "source": [
    "print(return_upper_string('higher order function', return_reversed_string))"
   ]
  },
  {
   "cell_type": "code",
   "execution_count": 80,
   "metadata": {},
   "outputs": [],
   "source": [
    "def upper_decorator(func):\n",
    "    def wrapper(text):\n",
    "        if type(text) != str:\n",
    "            raise ValueError('text must be a string')\n",
    "        result_text = func(text)\n",
    "        return result_text.upper()\n",
    "    return wrapper"
   ]
  },
  {
   "cell_type": "code",
   "execution_count": 81,
   "metadata": {},
   "outputs": [],
   "source": [
    "@upper_decorator\n",
    "def return_reversed_string(text):\n",
    "    return text[::-1]"
   ]
  },
  {
   "cell_type": "code",
   "execution_count": 82,
   "metadata": {},
   "outputs": [
    {
     "data": {
      "text/plain": [
       "'ANEITSIV US ANEID ABAL'"
      ]
     },
     "execution_count": 82,
     "metadata": {},
     "output_type": "execute_result"
    }
   ],
   "source": [
    "return_reversed_string('laba diena su vistiena')"
   ]
  },
  {
   "cell_type": "code",
   "execution_count": 83,
   "metadata": {},
   "outputs": [],
   "source": [
    "class UzsakymoEilute:\n",
    "    def __init__(self, produktas, kaina, kiekis=1):\n",
    "        self.produktas = produktas\n",
    "        self.kaina = kaina\n",
    "        self.kiekis = kiekis\n",
    "\n",
    "    def __str__(self):\n",
    "        return f'{self.produktas:20s} | {self.kaina:10.2f} x {self.kiekis:10.2f} = {self.suma:10.2f}'\n",
    "\n",
    "# funkcija tampa kintamuoju\n",
    "    @property\n",
    "    def suma(self):\n",
    "        return self.kaina * self.kiekis"
   ]
  },
  {
   "cell_type": "code",
   "execution_count": 84,
   "metadata": {},
   "outputs": [
    {
     "name": "stdout",
     "output_type": "stream",
     "text": [
      "Kava                 |       8.99 x       2.00 =      17.98\n"
     ]
    }
   ],
   "source": [
    "eilute = UzsakymoEilute('Kava', 8.99, 2)\n",
    "print(eilute)"
   ]
  },
  {
   "cell_type": "code",
   "execution_count": 85,
   "metadata": {},
   "outputs": [],
   "source": [
    "from time import time\n",
    "def performance(fn):\n",
    "    def wrapper(*args, **kwargs):\n",
    "        t1 = time()\n",
    "        result = fn(*args, **kwargs)\n",
    "        t2 = time()\n",
    "        diff = t2 - t1\n",
    "        # print(f\"It took {diff}\")\n",
    "        return result, diff\n",
    "    return wrapper"
   ]
  },
  {
   "cell_type": "code",
   "execution_count": 86,
   "metadata": {},
   "outputs": [],
   "source": [
    "@performance\n",
    "def imtis(nuo, iki, zingsnis=1):\n",
    "    while nuo < iki:\n",
    "        yield nuo\n",
    "        nuo += zingsnis"
   ]
  },
  {
   "cell_type": "code",
   "execution_count": 87,
   "metadata": {},
   "outputs": [],
   "source": [
    "skaiciai = imtis(1, 100000, 3)"
   ]
  },
  {
   "cell_type": "code",
   "execution_count": 88,
   "metadata": {},
   "outputs": [
    {
     "data": {
      "text/plain": [
       "0.0"
      ]
     },
     "execution_count": 88,
     "metadata": {},
     "output_type": "execute_result"
    }
   ],
   "source": [
    "from statistics import mean\n",
    "bandymai = []\n",
    "for bandymas in range(0, 100):\n",
    "    skaiciai = imtis(1, 10000000, 3)\n",
    "    bandymai.append(skaiciai[1])\n",
    "mean(bandymai)"
   ]
  },
  {
   "cell_type": "code",
   "execution_count": 89,
   "metadata": {},
   "outputs": [
    {
     "name": "stdout",
     "output_type": "stream",
     "text": [
      "1675414540.2401001\n"
     ]
    }
   ],
   "source": [
    "print(time())"
   ]
  },
  {
   "attachments": {},
   "cell_type": "markdown",
   "metadata": {},
   "source": [
    "### dekoratoriai II"
   ]
  },
  {
   "cell_type": "code",
   "execution_count": 90,
   "metadata": {},
   "outputs": [],
   "source": [
    "from functools import wraps"
   ]
  },
  {
   "cell_type": "code",
   "execution_count": 91,
   "metadata": {},
   "outputs": [],
   "source": [
    "def lyginis_nelyginis(fn):\n",
    "    @wraps(fn)\n",
    "    def wrapper(*args, **kwargs):\n",
    "        \"\"\"apvalkalas\"\"\"\n",
    "        result = fn(*args, **kwargs)\n",
    "        if result % 2 == 0:\n",
    "            return result, 'lyginis'\n",
    "        else:\n",
    "            return result, 'nelyginis'\n",
    "    return wrapper"
   ]
  },
  {
   "cell_type": "code",
   "execution_count": 92,
   "metadata": {},
   "outputs": [],
   "source": [
    "@lyginis_nelyginis\n",
    "def give_me_10():\n",
    "    \"\"\"grazina 10\"\"\"\n",
    "    return 10\n",
    "\n",
    "@lyginis_nelyginis\n",
    "def multiply(x, y):\n",
    "    return x * y\n",
    "\n",
    "@lyginis_nelyginis\n",
    "def summ_all(*args):\n",
    "    return sum(args)"
   ]
  },
  {
   "cell_type": "code",
   "execution_count": 93,
   "metadata": {},
   "outputs": [
    {
     "data": {
      "text/plain": [
       "(10, 'lyginis')"
      ]
     },
     "execution_count": 93,
     "metadata": {},
     "output_type": "execute_result"
    }
   ],
   "source": [
    "give_me_10()"
   ]
  },
  {
   "cell_type": "code",
   "execution_count": 94,
   "metadata": {},
   "outputs": [
    {
     "data": {
      "text/plain": [
       "'give_me_10'"
      ]
     },
     "execution_count": 94,
     "metadata": {},
     "output_type": "execute_result"
    }
   ],
   "source": [
    "give_me_10.__name__"
   ]
  },
  {
   "cell_type": "code",
   "execution_count": 95,
   "metadata": {},
   "outputs": [
    {
     "data": {
      "text/plain": [
       "'grazina 10'"
      ]
     },
     "execution_count": 95,
     "metadata": {},
     "output_type": "execute_result"
    }
   ],
   "source": [
    "give_me_10.__doc__"
   ]
  },
  {
   "cell_type": "code",
   "execution_count": 96,
   "metadata": {},
   "outputs": [
    {
     "data": {
      "text/plain": [
       "(27, 'nelyginis')"
      ]
     },
     "execution_count": 96,
     "metadata": {},
     "output_type": "execute_result"
    }
   ],
   "source": [
    "multiply(3, 9)"
   ]
  },
  {
   "cell_type": "code",
   "execution_count": 97,
   "metadata": {},
   "outputs": [
    {
     "data": {
      "text/plain": [
       "(16, 'lyginis')"
      ]
     },
     "execution_count": 97,
     "metadata": {},
     "output_type": "execute_result"
    }
   ],
   "source": [
    "multiply(4, 4)"
   ]
  },
  {
   "cell_type": "code",
   "execution_count": 98,
   "metadata": {},
   "outputs": [
    {
     "data": {
      "text/plain": [
       "(109, 'nelyginis')"
      ]
     },
     "execution_count": 98,
     "metadata": {},
     "output_type": "execute_result"
    }
   ],
   "source": [
    "summ_all(1, 2, 3, 5, 4, 6, 8, 7, 9, 10, 54)"
   ]
  },
  {
   "cell_type": "code",
   "execution_count": 99,
   "metadata": {},
   "outputs": [],
   "source": [
    "from random import Random\n",
    "\n",
    "class Belenkas(Random):\n",
    "    @performance\n",
    "    def randint(self, a: int, b: int) -> int:\n",
    "        return super().randint(a, b)"
   ]
  },
  {
   "cell_type": "code",
   "execution_count": 100,
   "metadata": {},
   "outputs": [
    {
     "data": {
      "text/plain": [
       "(-28962720, 0.0)"
      ]
     },
     "execution_count": 100,
     "metadata": {},
     "output_type": "execute_result"
    }
   ],
   "source": [
    "random_inst = Belenkas()\n",
    "random_inst.randint(-100000000, 10000000)"
   ]
  },
  {
   "attachments": {},
   "cell_type": "markdown",
   "metadata": {},
   "source": [
    "### dekoratoriai su parametrais"
   ]
  },
  {
   "cell_type": "code",
   "execution_count": 101,
   "metadata": {},
   "outputs": [],
   "source": [
    "from functools import wraps\n",
    "from time import sleep\n",
    "\n",
    "def uzvelavimas(sekundes):\n",
    "    def uzvelavimas(fn):\n",
    "        @wraps(fn)\n",
    "        def wrapper(*args, **kwargs):\n",
    "            print(f'funkcija bus atideta {sekundes} sekundems')\n",
    "            sleep(sekundes)\n",
    "            return fn(*args, **kwargs)\n",
    "        return wrapper\n",
    "    return uzvelavimas"
   ]
  },
  {
   "cell_type": "code",
   "execution_count": 102,
   "metadata": {},
   "outputs": [],
   "source": [
    "def args_counter(fn):\n",
    "    @wraps(fn)\n",
    "    def wrapper(*args, **kwargs):\n",
    "        print(f'Args: {len(args)}, kwargs: {len(kwargs)}')\n",
    "        return fn(*args, **kwargs)\n",
    "    return wrapper"
   ]
  },
  {
   "cell_type": "code",
   "execution_count": 103,
   "metadata": {},
   "outputs": [],
   "source": [
    "@uzvelavimas(3)\n",
    "def skaiciu_suma(*args):\n",
    "    suma = sum(args)\n",
    "    print(f'skaiciu suma: {suma}')"
   ]
  },
  {
   "cell_type": "code",
   "execution_count": 104,
   "metadata": {},
   "outputs": [
    {
     "name": "stdout",
     "output_type": "stream",
     "text": [
      "funkcija bus atideta 3 sekundems\n",
      "skaiciu suma: 55\n"
     ]
    }
   ],
   "source": [
    "skaiciu_suma(1, 2, 3, 4, 5, 6, 7, 8, 9, 10)"
   ]
  },
  {
   "attachments": {},
   "cell_type": "markdown",
   "metadata": {},
   "source": [
    "### fukcija su keliais dekoratoriais"
   ]
  },
  {
   "cell_type": "code",
   "execution_count": 105,
   "metadata": {},
   "outputs": [],
   "source": [
    "#  dekoratoriai vykdomi is eiles\n",
    "@uzvelavimas(2)\n",
    "@performance\n",
    "@args_counter\n",
    "def skaiciu_suma(*args):\n",
    "    suma = sum(args)\n",
    "    print(f'skaiciu suma: {suma}')"
   ]
  },
  {
   "cell_type": "code",
   "execution_count": 106,
   "metadata": {},
   "outputs": [
    {
     "name": "stdout",
     "output_type": "stream",
     "text": [
      "funkcija bus atideta 2 sekundems\n",
      "Args: 5, kwargs: 0\n",
      "skaiciu suma: 15\n"
     ]
    },
    {
     "data": {
      "text/plain": [
       "(None, 0.0)"
      ]
     },
     "execution_count": 106,
     "metadata": {},
     "output_type": "execute_result"
    }
   ],
   "source": [
    "skaiciu_suma(1, 2, 3, 4, 5)"
   ]
  },
  {
   "attachments": {},
   "cell_type": "markdown",
   "metadata": {},
   "source": [
    "## set / get metodai"
   ]
  },
  {
   "cell_type": "code",
   "execution_count": 107,
   "metadata": {},
   "outputs": [
    {
     "data": {
      "text/plain": [
       "1000"
      ]
     },
     "execution_count": 107,
     "metadata": {},
     "output_type": "execute_result"
    }
   ],
   "source": [
    "class Darbuotojas:\n",
    "    vardas = ''\n",
    "    pavarde = ''\n",
    "    __atlyginimas = 0\n",
    "\n",
    "    def __init__(self, **kwargs):\n",
    "        for name, kwarg in kwargs.items():\n",
    "            setattr(self, name, kwarg)\n",
    "\n",
    "    def set_atlyginimas(self, naujas):\n",
    "        if naujas > 0:\n",
    "            self.__atlyginimas = naujas\n",
    "        else:\n",
    "            raise ValueError('Atlyginimas turi buti teigiamas')\n",
    "\n",
    "    def get_atlyginimas(self):\n",
    "        return self.__atlyginimas\n",
    "\n",
    "destytojas = Darbuotojas(vardas = 'Kestutis', pavarde='Januskevicius')\n",
    "destytojas.set_atlyginimas(1000)\n",
    "destytojas.get_atlyginimas()"
   ]
  },
  {
   "cell_type": "code",
   "execution_count": 108,
   "metadata": {},
   "outputs": [],
   "source": [
    "class Darbuotojas:\n",
    "    vardas = ''\n",
    "    pavarde = ''\n",
    "    atlyginimas = 0\n",
    "\n",
    "    def __init__(self, **kwargs):\n",
    "        for name, kwarg in kwargs.items():\n",
    "            setattr(self, name, kwarg)\n",
    "    \n",
    "    # getter\n",
    "    @property\n",
    "    def atlyginimas(self):\n",
    "        return self.__atlyginimas\n",
    "    \n",
    "    @atlyginimas.setter\n",
    "    def atlyginimas(self, naujas):\n",
    "        if (type(naujas) == int or type(naujas) == float) and naujas >= 0:\n",
    "            self.__atlyginimas = naujas\n",
    "        else:\n",
    "            raise ValueError('Atlyginimas turi buti teigiamas skaicius')\n",
    "\n",
    "    def __str__(self) -> str:\n",
    "        return f'{self.vardas} {self.pavarde} gauna {self.atlyginimas} €'"
   ]
  },
  {
   "cell_type": "code",
   "execution_count": 109,
   "metadata": {},
   "outputs": [
    {
     "name": "stdout",
     "output_type": "stream",
     "text": [
      "Egle M gauna 3333 €\n",
      "Tinginys Benamis gauna 100 €\n",
      "Tinginys Benamis gauna 100.37 €\n"
     ]
    }
   ],
   "source": [
    "egle = Darbuotojas(vardas = 'Egle', pavarde = 'M', atlyginimas = 3333)\n",
    "print(egle)\n",
    "\n",
    "vargelis = Darbuotojas(vardas = 'Tinginys', pavarde = 'Benamis', atlyginimas = 100)\n",
    "print(vargelis)\n",
    "vargelis.atlyginimas = 100.37\n",
    "print(vargelis)"
   ]
  },
  {
   "cell_type": "code",
   "execution_count": 116,
   "metadata": {},
   "outputs": [],
   "source": [
    "class Customers:\n",
    "    age = 0\n",
    "\n",
    "    def __init__(self, **kwargs):\n",
    "        for name, kwarg in kwargs.items():\n",
    "            setattr(self, name, kwarg)\n",
    "       \n",
    "    @property\n",
    "    def age(self):\n",
    "        if self.__age < 18:\n",
    "            return f'Your age is {self.__age}. Sorry, you are too young to come in'\n",
    "        else:\n",
    "            return f'Welcome. Your age is {self.__age}, you can come in'\n",
    "       \n",
    "    @age.setter\n",
    "    def age(self, new_age):\n",
    "        if type(new_age) == int or type(new_age) == float:\n",
    "            self.__age = new_age\n",
    "        else:\n",
    "            raise ValueError('Age must be a number not string')\n",
    "    \n",
    "    def __str__(self) -> str:\n",
    "        return f'Customer name: {self.name}, age {self.__age}'"
   ]
  },
  {
   "cell_type": "code",
   "execution_count": 117,
   "metadata": {},
   "outputs": [
    {
     "name": "stdout",
     "output_type": "stream",
     "text": [
      "ORIGINAL AGE\n",
      "Customer name: Petras, age 45\n",
      "Welcome. Your age is 45, you can come in\n",
      "CHANGE AGE\n",
      "Customer name: Petras, age 15\n",
      "Your age is 15. Sorry, you are too young to come in\n"
     ]
    }
   ],
   "source": [
    "print('ORIGINAL AGE')\n",
    "friday_customer = Customers(name='Petras', age=45)  \n",
    "print(friday_customer)\n",
    "print(friday_customer.age)\n",
    "\n",
    "print('CHANGE AGE')\n",
    "friday_customer.age = 15\n",
    "print(friday_customer)\n",
    "print(friday_customer.age)"
   ]
  }
 ],
 "metadata": {
  "kernelspec": {
   "display_name": "venv",
   "language": "python",
   "name": "python3"
  },
  "language_info": {
   "codemirror_mode": {
    "name": "ipython",
    "version": 3
   },
   "file_extension": ".py",
   "mimetype": "text/x-python",
   "name": "python",
   "nbconvert_exporter": "python",
   "pygments_lexer": "ipython3",
   "version": "3.10.9"
  },
  "orig_nbformat": 4,
  "vscode": {
   "interpreter": {
    "hash": "c45aa5459b9a1cefa759617f524b65e98df9772569b55aaad1035e6eb843a449"
   }
  }
 },
 "nbformat": 4,
 "nbformat_minor": 2
}
