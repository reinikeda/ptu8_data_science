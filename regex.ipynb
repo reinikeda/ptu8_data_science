{
 "cells": [
  {
   "cell_type": "code",
   "execution_count": 1,
   "metadata": {},
   "outputs": [],
   "source": [
    "import re"
   ]
  },
  {
   "cell_type": "code",
   "execution_count": 2,
   "metadata": {},
   "outputs": [],
   "source": [
    "telefono_nr_filtras = re.compile(r'\\+370\\s\\d{3}\\s\\d{5}')"
   ]
  },
  {
   "cell_type": "code",
   "execution_count": 3,
   "metadata": {},
   "outputs": [],
   "source": [
    "tekstas = '''Pirmas telefono numeris yra +370 123 12321, antras +370 321 10101.'''"
   ]
  },
  {
   "cell_type": "code",
   "execution_count": 4,
   "metadata": {},
   "outputs": [
    {
     "data": {
      "text/plain": [
       "<re.Match object; span=(28, 42), match='+370 123 12321'>"
      ]
     },
     "execution_count": 4,
     "metadata": {},
     "output_type": "execute_result"
    }
   ],
   "source": [
    "rastas_vienas = telefono_nr_filtras.search(tekstas)\n",
    "rastas_vienas"
   ]
  },
  {
   "cell_type": "code",
   "execution_count": 7,
   "metadata": {},
   "outputs": [
    {
     "data": {
      "text/plain": [
       "'+370 123 12321'"
      ]
     },
     "execution_count": 7,
     "metadata": {},
     "output_type": "execute_result"
    }
   ],
   "source": [
    "rastas_vienas.group()"
   ]
  },
  {
   "cell_type": "code",
   "execution_count": 8,
   "metadata": {},
   "outputs": [
    {
     "data": {
      "text/plain": [
       "['+370 123 12321', '+370 321 10101']"
      ]
     },
     "execution_count": 8,
     "metadata": {},
     "output_type": "execute_result"
    }
   ],
   "source": [
    "rasti_visi = telefono_nr_filtras.findall(tekstas)\n",
    "rasti_visi"
   ]
  },
  {
   "cell_type": "code",
   "execution_count": 10,
   "metadata": {},
   "outputs": [],
   "source": [
    "def validate_email(input):\n",
    "    email_regex = re.compile(r'^[a-zA-Z0-9._%-]+@[a-zA-Z0-9.-]+\\.[a-zA-Z]{2,6}$')\n",
    "    result = email_regex.search(input)\n",
    "    if result:\n",
    "        return True\n",
    "    return False"
   ]
  },
  {
   "cell_type": "code",
   "execution_count": 11,
   "metadata": {},
   "outputs": [
    {
     "data": {
      "text/plain": [
       "True"
      ]
     },
     "execution_count": 11,
     "metadata": {},
     "output_type": "execute_result"
    }
   ],
   "source": [
    "validate_email('reinike@gmail.com')"
   ]
  },
  {
   "cell_type": "code",
   "execution_count": 14,
   "metadata": {},
   "outputs": [
    {
     "data": {
      "text/plain": [
       "False"
      ]
     },
     "execution_count": 14,
     "metadata": {},
     "output_type": "execute_result"
    }
   ],
   "source": [
    "validate_email('vienas @labas.do')"
   ]
  },
  {
   "attachments": {},
   "cell_type": "markdown",
   "metadata": {},
   "source": [
    "## grupavimas"
   ]
  },
  {
   "cell_type": "code",
   "execution_count": 33,
   "metadata": {},
   "outputs": [],
   "source": [
    "name = 'Mrs. Daiva Reinike'"
   ]
  },
  {
   "cell_type": "code",
   "execution_count": 17,
   "metadata": {},
   "outputs": [
    {
     "data": {
      "text/plain": [
       "['Mrs.', 'Daiva', 'Reinike']"
      ]
     },
     "execution_count": 17,
     "metadata": {},
     "output_type": "execute_result"
    }
   ],
   "source": [
    "vardai = name.split()\n",
    "vardai"
   ]
  },
  {
   "cell_type": "code",
   "execution_count": 35,
   "metadata": {},
   "outputs": [],
   "source": [
    "def split_names(name):\n",
    "    name_filter = re.compile(r'^([A-Z]\\w*\\.)\\s([A-Z]\\w+)\\s([A-Z]\\w+)$')\n",
    "    filter_result = name_filter.search(name)\n",
    "    if filter_result:\n",
    "        print(f\"\"\"\n",
    "Visa eilute: {filter_result.group(0)}\n",
    "Kreipinys:   {filter_result.group(1)}\n",
    "Vardas:      {filter_result.group(2)}\n",
    "Pavarde:     {filter_result.group(3)}\n",
    "------------------------------------------\n",
    "Rezultatas:  {filter_result.group()}\n",
    "Visos grupes: {filter_result.groups()}\n",
    "\"\"\")\n",
    "    else:\n",
    "        print('Klaida! Blogas vardas.')"
   ]
  },
  {
   "cell_type": "code",
   "execution_count": 34,
   "metadata": {},
   "outputs": [
    {
     "name": "stdout",
     "output_type": "stream",
     "text": [
      "\n",
      "Visa eilute: Mrs. Daiva Reinike\n",
      "Kreipinys:   Mrs.\n",
      "Vardas:      Daiva\n",
      "Pavarde:     Reinike\n",
      "------------------------------------------\n",
      "Rezultatas:  Mrs. Daiva Reinike\n",
      "Visos grupes: ('Mrs.', 'Daiva', 'Reinike')\n",
      "\n"
     ]
    }
   ],
   "source": [
    "split_names(name)"
   ]
  },
  {
   "attachments": {},
   "cell_type": "markdown",
   "metadata": {},
   "source": [
    "### grupiu ivardinimas"
   ]
  },
  {
   "cell_type": "code",
   "execution_count": 43,
   "metadata": {},
   "outputs": [],
   "source": [
    "def get_title(name):\n",
    "    name_filter = re.compile(r'^(?P<title>[A-Z]\\w*\\.)\\s(?P<vardas>[A-Z]\\w+)\\s(?P<pavarde>[A-Z]\\w+)$')\n",
    "    filter_result = name_filter.search(name)\n",
    "    if filter_result:\n",
    "        return filter_result.group('pavarde')"
   ]
  },
  {
   "cell_type": "code",
   "execution_count": 46,
   "metadata": {},
   "outputs": [
    {
     "data": {
      "text/plain": [
       "'Reinikis'"
      ]
     },
     "execution_count": 46,
     "metadata": {},
     "output_type": "execute_result"
    }
   ],
   "source": [
    "get_title('Mr. Otas Reinikis')"
   ]
  },
  {
   "attachments": {},
   "cell_type": "markdown",
   "metadata": {},
   "source": [
    "## .sub()"
   ]
  },
  {
   "cell_type": "code",
   "execution_count": 66,
   "metadata": {},
   "outputs": [],
   "source": [
    "def mask_name(name):\n",
    "    name_filter = re.compile(r'^(?P<title>[A-Z]\\w*\\.)\\s(?P<vardas>[A-Z]\\w+)\\s(?P<pavarde>[A-Z]\\w+)$')\n",
    "    filter_result = name_filter.search(name)\n",
    "    if filter_result:\n",
    "        return name_filter.sub('\\g<title> \\g<vardas> *****', name)"
   ]
  },
  {
   "cell_type": "code",
   "execution_count": 67,
   "metadata": {},
   "outputs": [
    {
     "data": {
      "text/plain": [
       "'Mr. Otas *****'"
      ]
     },
     "execution_count": 67,
     "metadata": {},
     "output_type": "execute_result"
    }
   ],
   "source": [
    "mask_name('Mr. Otas Reinikis')"
   ]
  },
  {
   "attachments": {},
   "cell_type": "markdown",
   "metadata": {},
   "source": [
    "## Flags"
   ]
  },
  {
   "cell_type": "code",
   "execution_count": 91,
   "metadata": {},
   "outputs": [
    {
     "name": "stdout",
     "output_type": "stream",
     "text": [
      "Trumpas teksirtas apie \t betka IR... bet \n",
      "kaip, ir apie viską.\n"
     ]
    }
   ],
   "source": [
    "tekstas = 'Trumpas teksirtas apie \\t betka IR... bet \\nkaip, ir apie viską.'\n",
    "print(tekstas)"
   ]
  },
  {
   "cell_type": "code",
   "execution_count": 73,
   "metadata": {},
   "outputs": [
    {
     "data": {
      "text/plain": [
       "['IR', 'ir']"
      ]
     },
     "execution_count": 73,
     "metadata": {},
     "output_type": "execute_result"
    }
   ],
   "source": [
    "word_filter = re.compile(r'\\bir\\b', re.IGNORECASE)\n",
    "found = word_filter.findall(tekstas)\n",
    "found"
   ]
  },
  {
   "cell_type": "code",
   "execution_count": 92,
   "metadata": {},
   "outputs": [
    {
     "name": "stdout",
     "output_type": "stream",
     "text": [
      "[]\n",
      "['Trumpas', 'kaip']\n"
     ]
    }
   ],
   "source": [
    "words_in_line_filter = re.compile(r'^w+')\n",
    "words_in_lines_filter = re.compile(r'^\\w+', re.MULTILINE)\n",
    "\n",
    "found_one = words_in_line_filter.findall(tekstas)\n",
    "found_all = words_in_lines_filter.findall(tekstas)\n",
    "\n",
    "print(found_one)\n",
    "print(found_all)"
   ]
  },
  {
   "cell_type": "code",
   "execution_count": 98,
   "metadata": {},
   "outputs": [],
   "source": [
    "name_filter = re.compile(r'''\n",
    "^                           # eilutes pradzia\n",
    "(?P<title>[A-Z]\\w*\\.)       # kreipinio grupe\n",
    "\\s                          # tarpas\n",
    "(?P<vardas>[A-Z]\\w+)        # vardo grupe\n",
    "\\s                          # tarpas\n",
    "(?P<pavarde>[A-Z]\\w+)       # pavardes grupe\n",
    "$                           # eilutes pabaiga\n",
    "''', re.VERBOSE | re.IGNORECASE)"
   ]
  },
  {
   "cell_type": "code",
   "execution_count": 100,
   "metadata": {},
   "outputs": [
    {
     "data": {
      "text/plain": [
       "('Dr.', 'know', 'Everything')"
      ]
     },
     "execution_count": 100,
     "metadata": {},
     "output_type": "execute_result"
    }
   ],
   "source": [
    "result = name_filter.search('Dr. know Everything')\n",
    "result.groups()"
   ]
  }
 ],
 "metadata": {
  "kernelspec": {
   "display_name": "venv",
   "language": "python",
   "name": "python3"
  },
  "language_info": {
   "codemirror_mode": {
    "name": "ipython",
    "version": 3
   },
   "file_extension": ".py",
   "mimetype": "text/x-python",
   "name": "python",
   "nbconvert_exporter": "python",
   "pygments_lexer": "ipython3",
   "version": "3.10.9"
  },
  "orig_nbformat": 4,
  "vscode": {
   "interpreter": {
    "hash": "c45aa5459b9a1cefa759617f524b65e98df9772569b55aaad1035e6eb843a449"
   }
  }
 },
 "nbformat": 4,
 "nbformat_minor": 2
}
