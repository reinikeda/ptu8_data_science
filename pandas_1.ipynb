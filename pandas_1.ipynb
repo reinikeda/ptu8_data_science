{
 "cells": [
  {
   "cell_type": "code",
   "execution_count": 16,
   "metadata": {},
   "outputs": [],
   "source": [
    "import pandas as pd\n",
    "import numpy as np"
   ]
  },
  {
   "attachments": {},
   "cell_type": "markdown",
   "metadata": {},
   "source": [
    "## Serijos"
   ]
  },
  {
   "cell_type": "code",
   "execution_count": 17,
   "metadata": {},
   "outputs": [
    {
     "data": {
      "text/plain": [
       "0    10\n",
       "1    20\n",
       "2    30\n",
       "3    25\n",
       "dtype: int64"
      ]
     },
     "execution_count": 17,
     "metadata": {},
     "output_type": "execute_result"
    }
   ],
   "source": [
    "labels = ['W', 'X', 'Y', 'Z']\n",
    "data = [10, 20, 30, 25]\n",
    "pandos_serija = pd.Series(data=data)\n",
    "pandos_serija"
   ]
  },
  {
   "cell_type": "code",
   "execution_count": 18,
   "metadata": {},
   "outputs": [
    {
     "data": {
      "text/plain": [
       "W    10\n",
       "X    20\n",
       "Y    30\n",
       "Z    25\n",
       "dtype: int64"
      ]
     },
     "execution_count": 18,
     "metadata": {},
     "output_type": "execute_result"
    }
   ],
   "source": [
    "suvardinta_serija = pd.Series(data=data, index=labels)\n",
    "suvardinta_serija"
   ]
  },
  {
   "cell_type": "code",
   "execution_count": 19,
   "metadata": {},
   "outputs": [
    {
     "data": {
      "text/plain": [
       "vardas         daiva\n",
       "pavarde      reinike\n",
       "amzius            35\n",
       "pareigos    studente\n",
       "dtype: object"
      ]
     },
     "execution_count": 19,
     "metadata": {},
     "output_type": "execute_result"
    }
   ],
   "source": [
    "asmuo = {\n",
    "    'vardas': 'daiva',\n",
    "    'pavarde': 'reinike',\n",
    "    'amzius': 35,\n",
    "    'pareigos': 'studente'\n",
    "}\n",
    "asmens_serija = pd.Series(asmuo)\n",
    "asmens_serija"
   ]
  },
  {
   "cell_type": "code",
   "execution_count": 20,
   "metadata": {},
   "outputs": [
    {
     "data": {
      "text/plain": [
       "Vilnius     400\n",
       "Kaunas      200\n",
       "Klaipeda    200\n",
       "Palanga     200\n",
       "Kretinga    100\n",
       "dtype: int64"
      ]
     },
     "execution_count": 20,
     "metadata": {},
     "output_type": "execute_result"
    }
   ],
   "source": [
    "miestai_vasara = pd.Series([400, 200, 200, 200, 100], ['Vilnius', 'Kaunas', 'Klaipeda', 'Palanga', 'Kretinga'])\n",
    "miestai_vasara"
   ]
  },
  {
   "cell_type": "code",
   "execution_count": 21,
   "metadata": {},
   "outputs": [
    {
     "data": {
      "text/plain": [
       "Vilnius      500\n",
       "Kaunas       300\n",
       "Klaipeda     150\n",
       "Siauliai     100\n",
       "Panevezys    750\n",
       "dtype: int64"
      ]
     },
     "execution_count": 21,
     "metadata": {},
     "output_type": "execute_result"
    }
   ],
   "source": [
    "miestai_ziema = pd.Series([500, 300, 150, 100, 750], ['Vilnius', 'Kaunas', 'Klaipeda', 'Siauliai', 'Panevezys'])\n",
    "miestai_ziema"
   ]
  },
  {
   "cell_type": "code",
   "execution_count": 22,
   "metadata": {},
   "outputs": [
    {
     "data": {
      "text/plain": [
       "Kaunas       500.0\n",
       "Klaipeda     350.0\n",
       "Kretinga       NaN\n",
       "Palanga        NaN\n",
       "Panevezys      NaN\n",
       "Siauliai       NaN\n",
       "Vilnius      900.0\n",
       "dtype: float64"
      ]
     },
     "execution_count": 22,
     "metadata": {},
     "output_type": "execute_result"
    }
   ],
   "source": [
    "miestai_ziema + miestai_vasara"
   ]
  },
  {
   "attachments": {},
   "cell_type": "markdown",
   "metadata": {},
   "source": [
    "## DataFrame"
   ]
  },
  {
   "cell_type": "code",
   "execution_count": 23,
   "metadata": {},
   "outputs": [
    {
     "data": {
      "text/html": [
       "<div>\n",
       "<style scoped>\n",
       "    .dataframe tbody tr th:only-of-type {\n",
       "        vertical-align: middle;\n",
       "    }\n",
       "\n",
       "    .dataframe tbody tr th {\n",
       "        vertical-align: top;\n",
       "    }\n",
       "\n",
       "    .dataframe thead th {\n",
       "        text-align: right;\n",
       "    }\n",
       "</style>\n",
       "<table border=\"1\" class=\"dataframe\">\n",
       "  <thead>\n",
       "    <tr style=\"text-align: right;\">\n",
       "      <th></th>\n",
       "      <th>U</th>\n",
       "      <th>V</th>\n",
       "      <th>W</th>\n",
       "      <th>X</th>\n",
       "      <th>Y</th>\n",
       "      <th>Z</th>\n",
       "    </tr>\n",
       "  </thead>\n",
       "  <tbody>\n",
       "    <tr>\n",
       "      <th>a</th>\n",
       "      <td>0.095444</td>\n",
       "      <td>0.842605</td>\n",
       "      <td>0.197930</td>\n",
       "      <td>0.597436</td>\n",
       "      <td>0.931078</td>\n",
       "      <td>0.079428</td>\n",
       "    </tr>\n",
       "    <tr>\n",
       "      <th>b</th>\n",
       "      <td>0.461033</td>\n",
       "      <td>0.915845</td>\n",
       "      <td>0.622510</td>\n",
       "      <td>0.492345</td>\n",
       "      <td>0.667111</td>\n",
       "      <td>0.318313</td>\n",
       "    </tr>\n",
       "    <tr>\n",
       "      <th>c</th>\n",
       "      <td>0.401120</td>\n",
       "      <td>0.745827</td>\n",
       "      <td>0.226633</td>\n",
       "      <td>0.646661</td>\n",
       "      <td>0.050342</td>\n",
       "      <td>0.675316</td>\n",
       "    </tr>\n",
       "    <tr>\n",
       "      <th>d</th>\n",
       "      <td>0.109410</td>\n",
       "      <td>0.327664</td>\n",
       "      <td>0.245513</td>\n",
       "      <td>0.743072</td>\n",
       "      <td>0.899044</td>\n",
       "      <td>0.822337</td>\n",
       "    </tr>\n",
       "    <tr>\n",
       "      <th>e</th>\n",
       "      <td>0.402905</td>\n",
       "      <td>0.994407</td>\n",
       "      <td>0.739405</td>\n",
       "      <td>0.554753</td>\n",
       "      <td>0.898844</td>\n",
       "      <td>0.461117</td>\n",
       "    </tr>\n",
       "  </tbody>\n",
       "</table>\n",
       "</div>"
      ],
      "text/plain": [
       "          U         V         W         X         Y         Z\n",
       "a  0.095444  0.842605  0.197930  0.597436  0.931078  0.079428\n",
       "b  0.461033  0.915845  0.622510  0.492345  0.667111  0.318313\n",
       "c  0.401120  0.745827  0.226633  0.646661  0.050342  0.675316\n",
       "d  0.109410  0.327664  0.245513  0.743072  0.899044  0.822337\n",
       "e  0.402905  0.994407  0.739405  0.554753  0.898844  0.461117"
      ]
     },
     "execution_count": 23,
     "metadata": {},
     "output_type": "execute_result"
    }
   ],
   "source": [
    "betkas = pd.DataFrame(\n",
    "    np.random.rand(5, 6),\n",
    "    ['a', 'b', 'c', 'd', 'e'],\n",
    "    ['U', 'V', 'W', 'X', 'Y', 'Z']\n",
    ")\n",
    "betkas"
   ]
  },
  {
   "cell_type": "code",
   "execution_count": 24,
   "metadata": {},
   "outputs": [
    {
     "data": {
      "text/plain": [
       "a    0.095444\n",
       "b    0.461033\n",
       "c    0.401120\n",
       "d    0.109410\n",
       "e    0.402905\n",
       "Name: U, dtype: float64"
      ]
     },
     "execution_count": 24,
     "metadata": {},
     "output_type": "execute_result"
    }
   ],
   "source": [
    "betkas['U']"
   ]
  },
  {
   "cell_type": "code",
   "execution_count": 25,
   "metadata": {},
   "outputs": [
    {
     "data": {
      "text/plain": [
       "pandas.core.frame.DataFrame"
      ]
     },
     "execution_count": 25,
     "metadata": {},
     "output_type": "execute_result"
    }
   ],
   "source": [
    "type(betkas)"
   ]
  },
  {
   "cell_type": "code",
   "execution_count": 26,
   "metadata": {},
   "outputs": [
    {
     "data": {
      "text/plain": [
       "pandas.core.series.Series"
      ]
     },
     "execution_count": 26,
     "metadata": {},
     "output_type": "execute_result"
    }
   ],
   "source": [
    "type(betkas['U'])"
   ]
  },
  {
   "cell_type": "code",
   "execution_count": 28,
   "metadata": {},
   "outputs": [],
   "source": [
    "# naujas stulpelis\n",
    "betkas['T-naujas'] = np.random.rand(5)"
   ]
  },
  {
   "cell_type": "code",
   "execution_count": 31,
   "metadata": {},
   "outputs": [
    {
     "data": {
      "text/html": [
       "<div>\n",
       "<style scoped>\n",
       "    .dataframe tbody tr th:only-of-type {\n",
       "        vertical-align: middle;\n",
       "    }\n",
       "\n",
       "    .dataframe tbody tr th {\n",
       "        vertical-align: top;\n",
       "    }\n",
       "\n",
       "    .dataframe thead th {\n",
       "        text-align: right;\n",
       "    }\n",
       "</style>\n",
       "<table border=\"1\" class=\"dataframe\">\n",
       "  <thead>\n",
       "    <tr style=\"text-align: right;\">\n",
       "      <th></th>\n",
       "      <th>U</th>\n",
       "      <th>V</th>\n",
       "      <th>W</th>\n",
       "      <th>X</th>\n",
       "      <th>Y</th>\n",
       "      <th>Z</th>\n",
       "      <th>T-naujas</th>\n",
       "    </tr>\n",
       "  </thead>\n",
       "  <tbody>\n",
       "    <tr>\n",
       "      <th>a</th>\n",
       "      <td>0.095444</td>\n",
       "      <td>0.842605</td>\n",
       "      <td>0.197930</td>\n",
       "      <td>0.597436</td>\n",
       "      <td>0.931078</td>\n",
       "      <td>0.079428</td>\n",
       "      <td>0.459656</td>\n",
       "    </tr>\n",
       "    <tr>\n",
       "      <th>b</th>\n",
       "      <td>0.461033</td>\n",
       "      <td>0.915845</td>\n",
       "      <td>0.622510</td>\n",
       "      <td>0.492345</td>\n",
       "      <td>0.667111</td>\n",
       "      <td>0.318313</td>\n",
       "      <td>0.441761</td>\n",
       "    </tr>\n",
       "    <tr>\n",
       "      <th>c</th>\n",
       "      <td>0.401120</td>\n",
       "      <td>0.745827</td>\n",
       "      <td>0.226633</td>\n",
       "      <td>0.646661</td>\n",
       "      <td>0.050342</td>\n",
       "      <td>0.675316</td>\n",
       "      <td>0.488433</td>\n",
       "    </tr>\n",
       "    <tr>\n",
       "      <th>d</th>\n",
       "      <td>0.109410</td>\n",
       "      <td>0.327664</td>\n",
       "      <td>0.245513</td>\n",
       "      <td>0.743072</td>\n",
       "      <td>0.899044</td>\n",
       "      <td>0.822337</td>\n",
       "      <td>0.378272</td>\n",
       "    </tr>\n",
       "    <tr>\n",
       "      <th>e</th>\n",
       "      <td>0.402905</td>\n",
       "      <td>0.994407</td>\n",
       "      <td>0.739405</td>\n",
       "      <td>0.554753</td>\n",
       "      <td>0.898844</td>\n",
       "      <td>0.461117</td>\n",
       "      <td>0.484445</td>\n",
       "    </tr>\n",
       "  </tbody>\n",
       "</table>\n",
       "</div>"
      ],
      "text/plain": [
       "          U         V         W         X         Y         Z  T-naujas\n",
       "a  0.095444  0.842605  0.197930  0.597436  0.931078  0.079428  0.459656\n",
       "b  0.461033  0.915845  0.622510  0.492345  0.667111  0.318313  0.441761\n",
       "c  0.401120  0.745827  0.226633  0.646661  0.050342  0.675316  0.488433\n",
       "d  0.109410  0.327664  0.245513  0.743072  0.899044  0.822337  0.378272\n",
       "e  0.402905  0.994407  0.739405  0.554753  0.898844  0.461117  0.484445"
      ]
     },
     "execution_count": 31,
     "metadata": {},
     "output_type": "execute_result"
    }
   ],
   "source": [
    "betkas"
   ]
  },
  {
   "cell_type": "code",
   "execution_count": 30,
   "metadata": {},
   "outputs": [
    {
     "data": {
      "text/html": [
       "<div>\n",
       "<style scoped>\n",
       "    .dataframe tbody tr th:only-of-type {\n",
       "        vertical-align: middle;\n",
       "    }\n",
       "\n",
       "    .dataframe tbody tr th {\n",
       "        vertical-align: top;\n",
       "    }\n",
       "\n",
       "    .dataframe thead th {\n",
       "        text-align: right;\n",
       "    }\n",
       "</style>\n",
       "<table border=\"1\" class=\"dataframe\">\n",
       "  <thead>\n",
       "    <tr style=\"text-align: right;\">\n",
       "      <th></th>\n",
       "      <th>U</th>\n",
       "      <th>V</th>\n",
       "      <th>W</th>\n",
       "      <th>X</th>\n",
       "      <th>Y</th>\n",
       "      <th>Z</th>\n",
       "    </tr>\n",
       "  </thead>\n",
       "  <tbody>\n",
       "    <tr>\n",
       "      <th>a</th>\n",
       "      <td>0.095444</td>\n",
       "      <td>0.842605</td>\n",
       "      <td>0.197930</td>\n",
       "      <td>0.597436</td>\n",
       "      <td>0.931078</td>\n",
       "      <td>0.079428</td>\n",
       "    </tr>\n",
       "    <tr>\n",
       "      <th>b</th>\n",
       "      <td>0.461033</td>\n",
       "      <td>0.915845</td>\n",
       "      <td>0.622510</td>\n",
       "      <td>0.492345</td>\n",
       "      <td>0.667111</td>\n",
       "      <td>0.318313</td>\n",
       "    </tr>\n",
       "    <tr>\n",
       "      <th>c</th>\n",
       "      <td>0.401120</td>\n",
       "      <td>0.745827</td>\n",
       "      <td>0.226633</td>\n",
       "      <td>0.646661</td>\n",
       "      <td>0.050342</td>\n",
       "      <td>0.675316</td>\n",
       "    </tr>\n",
       "    <tr>\n",
       "      <th>d</th>\n",
       "      <td>0.109410</td>\n",
       "      <td>0.327664</td>\n",
       "      <td>0.245513</td>\n",
       "      <td>0.743072</td>\n",
       "      <td>0.899044</td>\n",
       "      <td>0.822337</td>\n",
       "    </tr>\n",
       "    <tr>\n",
       "      <th>e</th>\n",
       "      <td>0.402905</td>\n",
       "      <td>0.994407</td>\n",
       "      <td>0.739405</td>\n",
       "      <td>0.554753</td>\n",
       "      <td>0.898844</td>\n",
       "      <td>0.461117</td>\n",
       "    </tr>\n",
       "  </tbody>\n",
       "</table>\n",
       "</div>"
      ],
      "text/plain": [
       "          U         V         W         X         Y         Z\n",
       "a  0.095444  0.842605  0.197930  0.597436  0.931078  0.079428\n",
       "b  0.461033  0.915845  0.622510  0.492345  0.667111  0.318313\n",
       "c  0.401120  0.745827  0.226633  0.646661  0.050342  0.675316\n",
       "d  0.109410  0.327664  0.245513  0.743072  0.899044  0.822337\n",
       "e  0.402905  0.994407  0.739405  0.554753  0.898844  0.461117"
      ]
     },
     "execution_count": 30,
     "metadata": {},
     "output_type": "execute_result"
    }
   ],
   "source": [
    "# stulpelio istrynimas, grazina rezultata kaip kopija\n",
    "betkas.drop('T-naujas', axis=1)"
   ]
  },
  {
   "cell_type": "code",
   "execution_count": 32,
   "metadata": {},
   "outputs": [],
   "source": [
    "# su inplace vykdo ant originalo\n",
    "betkas.drop('T-naujas', axis=1, inplace=True)"
   ]
  },
  {
   "cell_type": "code",
   "execution_count": 38,
   "metadata": {},
   "outputs": [
    {
     "data": {
      "text/html": [
       "<div>\n",
       "<style scoped>\n",
       "    .dataframe tbody tr th:only-of-type {\n",
       "        vertical-align: middle;\n",
       "    }\n",
       "\n",
       "    .dataframe tbody tr th {\n",
       "        vertical-align: top;\n",
       "    }\n",
       "\n",
       "    .dataframe thead th {\n",
       "        text-align: right;\n",
       "    }\n",
       "</style>\n",
       "<table border=\"1\" class=\"dataframe\">\n",
       "  <thead>\n",
       "    <tr style=\"text-align: right;\">\n",
       "      <th></th>\n",
       "      <th>U</th>\n",
       "      <th>V</th>\n",
       "      <th>W</th>\n",
       "      <th>X</th>\n",
       "      <th>Y</th>\n",
       "      <th>Z</th>\n",
       "    </tr>\n",
       "  </thead>\n",
       "  <tbody>\n",
       "    <tr>\n",
       "      <th>a</th>\n",
       "      <td>0.095444</td>\n",
       "      <td>0.842605</td>\n",
       "      <td>0.197930</td>\n",
       "      <td>0.597436</td>\n",
       "      <td>0.931078</td>\n",
       "      <td>0.079428</td>\n",
       "    </tr>\n",
       "    <tr>\n",
       "      <th>b</th>\n",
       "      <td>0.461033</td>\n",
       "      <td>0.915845</td>\n",
       "      <td>0.622510</td>\n",
       "      <td>0.492345</td>\n",
       "      <td>0.667111</td>\n",
       "      <td>0.318313</td>\n",
       "    </tr>\n",
       "    <tr>\n",
       "      <th>c</th>\n",
       "      <td>0.401120</td>\n",
       "      <td>0.745827</td>\n",
       "      <td>0.226633</td>\n",
       "      <td>0.646661</td>\n",
       "      <td>0.050342</td>\n",
       "      <td>0.675316</td>\n",
       "    </tr>\n",
       "    <tr>\n",
       "      <th>d</th>\n",
       "      <td>0.109410</td>\n",
       "      <td>0.327664</td>\n",
       "      <td>0.245513</td>\n",
       "      <td>0.743072</td>\n",
       "      <td>0.899044</td>\n",
       "      <td>0.822337</td>\n",
       "    </tr>\n",
       "    <tr>\n",
       "      <th>e</th>\n",
       "      <td>0.402905</td>\n",
       "      <td>0.994407</td>\n",
       "      <td>0.739405</td>\n",
       "      <td>0.554753</td>\n",
       "      <td>0.898844</td>\n",
       "      <td>0.461117</td>\n",
       "    </tr>\n",
       "  </tbody>\n",
       "</table>\n",
       "</div>"
      ],
      "text/plain": [
       "          U         V         W         X         Y         Z\n",
       "a  0.095444  0.842605  0.197930  0.597436  0.931078  0.079428\n",
       "b  0.461033  0.915845  0.622510  0.492345  0.667111  0.318313\n",
       "c  0.401120  0.745827  0.226633  0.646661  0.050342  0.675316\n",
       "d  0.109410  0.327664  0.245513  0.743072  0.899044  0.822337\n",
       "e  0.402905  0.994407  0.739405  0.554753  0.898844  0.461117"
      ]
     },
     "execution_count": 38,
     "metadata": {},
     "output_type": "execute_result"
    }
   ],
   "source": [
    "betkas"
   ]
  },
  {
   "cell_type": "code",
   "execution_count": 36,
   "metadata": {},
   "outputs": [
    {
     "data": {
      "text/plain": [
       "U    0.095444\n",
       "V    0.842605\n",
       "W    0.197930\n",
       "X    0.597436\n",
       "Y    0.931078\n",
       "Z    0.079428\n",
       "Name: a, dtype: float64"
      ]
     },
     "execution_count": 36,
     "metadata": {},
     "output_type": "execute_result"
    }
   ],
   "source": [
    "a_eilute_is_betko = betkas.loc['a']\n",
    "a_eilute_is_betko"
   ]
  },
  {
   "cell_type": "code",
   "execution_count": 37,
   "metadata": {},
   "outputs": [
    {
     "data": {
      "text/html": [
       "<div>\n",
       "<style scoped>\n",
       "    .dataframe tbody tr th:only-of-type {\n",
       "        vertical-align: middle;\n",
       "    }\n",
       "\n",
       "    .dataframe tbody tr th {\n",
       "        vertical-align: top;\n",
       "    }\n",
       "\n",
       "    .dataframe thead th {\n",
       "        text-align: right;\n",
       "    }\n",
       "</style>\n",
       "<table border=\"1\" class=\"dataframe\">\n",
       "  <thead>\n",
       "    <tr style=\"text-align: right;\">\n",
       "      <th></th>\n",
       "      <th>U</th>\n",
       "      <th>V</th>\n",
       "      <th>W</th>\n",
       "      <th>X</th>\n",
       "      <th>Y</th>\n",
       "      <th>Z</th>\n",
       "    </tr>\n",
       "  </thead>\n",
       "  <tbody>\n",
       "    <tr>\n",
       "      <th>a</th>\n",
       "      <td>0.095444</td>\n",
       "      <td>0.842605</td>\n",
       "      <td>0.197930</td>\n",
       "      <td>0.597436</td>\n",
       "      <td>0.931078</td>\n",
       "      <td>0.079428</td>\n",
       "    </tr>\n",
       "    <tr>\n",
       "      <th>b</th>\n",
       "      <td>0.461033</td>\n",
       "      <td>0.915845</td>\n",
       "      <td>0.622510</td>\n",
       "      <td>0.492345</td>\n",
       "      <td>0.667111</td>\n",
       "      <td>0.318313</td>\n",
       "    </tr>\n",
       "    <tr>\n",
       "      <th>c</th>\n",
       "      <td>0.401120</td>\n",
       "      <td>0.745827</td>\n",
       "      <td>0.226633</td>\n",
       "      <td>0.646661</td>\n",
       "      <td>0.050342</td>\n",
       "      <td>0.675316</td>\n",
       "    </tr>\n",
       "    <tr>\n",
       "      <th>d</th>\n",
       "      <td>0.109410</td>\n",
       "      <td>0.327664</td>\n",
       "      <td>0.245513</td>\n",
       "      <td>0.743072</td>\n",
       "      <td>0.899044</td>\n",
       "      <td>0.822337</td>\n",
       "    </tr>\n",
       "  </tbody>\n",
       "</table>\n",
       "</div>"
      ],
      "text/plain": [
       "          U         V         W         X         Y         Z\n",
       "a  0.095444  0.842605  0.197930  0.597436  0.931078  0.079428\n",
       "b  0.461033  0.915845  0.622510  0.492345  0.667111  0.318313\n",
       "c  0.401120  0.745827  0.226633  0.646661  0.050342  0.675316\n",
       "d  0.109410  0.327664  0.245513  0.743072  0.899044  0.822337"
      ]
     },
     "execution_count": 37,
     "metadata": {},
     "output_type": "execute_result"
    }
   ],
   "source": [
    "# istrina eilute, norint panaikinti is originalo, reikia nurodyti inplace\n",
    "betkas.drop('e')"
   ]
  },
  {
   "cell_type": "code",
   "execution_count": 39,
   "metadata": {},
   "outputs": [
    {
     "data": {
      "text/plain": [
       "U    0.402905\n",
       "V    0.994407\n",
       "W    0.739405\n",
       "X    0.554753\n",
       "Y    0.898844\n",
       "Z    0.461117\n",
       "Name: e, dtype: float64"
      ]
     },
     "execution_count": 39,
     "metadata": {},
     "output_type": "execute_result"
    }
   ],
   "source": [
    "# eilutes indeksas nuo 0\n",
    "betkas.iloc[4]"
   ]
  },
  {
   "cell_type": "code",
   "execution_count": 40,
   "metadata": {},
   "outputs": [
    {
     "data": {
      "text/plain": [
       "0.07942827702361988"
      ]
     },
     "execution_count": 40,
     "metadata": {},
     "output_type": "execute_result"
    }
   ],
   "source": [
    "# gauname konkrecia reiksme\n",
    "betkas.loc['a', 'Z']"
   ]
  },
  {
   "cell_type": "code",
   "execution_count": 41,
   "metadata": {},
   "outputs": [
    {
     "data": {
      "text/html": [
       "<div>\n",
       "<style scoped>\n",
       "    .dataframe tbody tr th:only-of-type {\n",
       "        vertical-align: middle;\n",
       "    }\n",
       "\n",
       "    .dataframe tbody tr th {\n",
       "        vertical-align: top;\n",
       "    }\n",
       "\n",
       "    .dataframe thead th {\n",
       "        text-align: right;\n",
       "    }\n",
       "</style>\n",
       "<table border=\"1\" class=\"dataframe\">\n",
       "  <thead>\n",
       "    <tr style=\"text-align: right;\">\n",
       "      <th></th>\n",
       "      <th>U</th>\n",
       "      <th>X</th>\n",
       "      <th>Z</th>\n",
       "    </tr>\n",
       "  </thead>\n",
       "  <tbody>\n",
       "    <tr>\n",
       "      <th>a</th>\n",
       "      <td>0.095444</td>\n",
       "      <td>0.597436</td>\n",
       "      <td>0.079428</td>\n",
       "    </tr>\n",
       "    <tr>\n",
       "      <th>c</th>\n",
       "      <td>0.401120</td>\n",
       "      <td>0.646661</td>\n",
       "      <td>0.675316</td>\n",
       "    </tr>\n",
       "  </tbody>\n",
       "</table>\n",
       "</div>"
      ],
      "text/plain": [
       "          U         X         Z\n",
       "a  0.095444  0.597436  0.079428\n",
       "c  0.401120  0.646661  0.675316"
      ]
     },
     "execution_count": 41,
     "metadata": {},
     "output_type": "execute_result"
    }
   ],
   "source": [
    "# rezis\n",
    "betkas.loc[['a', 'c'], ['U', 'X', 'Z']]"
   ]
  },
  {
   "cell_type": "code",
   "execution_count": 47,
   "metadata": {},
   "outputs": [
    {
     "data": {
      "text/plain": [
       "c    0.050342\n",
       "e    0.898844\n",
       "Name: Y, dtype: float64"
      ]
     },
     "execution_count": 47,
     "metadata": {},
     "output_type": "execute_result"
    }
   ],
   "source": [
    "betkas.iloc[[2, 4], -2]"
   ]
  },
  {
   "cell_type": "code",
   "execution_count": 48,
   "metadata": {},
   "outputs": [
    {
     "data": {
      "text/html": [
       "<div>\n",
       "<style scoped>\n",
       "    .dataframe tbody tr th:only-of-type {\n",
       "        vertical-align: middle;\n",
       "    }\n",
       "\n",
       "    .dataframe tbody tr th {\n",
       "        vertical-align: top;\n",
       "    }\n",
       "\n",
       "    .dataframe thead th {\n",
       "        text-align: right;\n",
       "    }\n",
       "</style>\n",
       "<table border=\"1\" class=\"dataframe\">\n",
       "  <thead>\n",
       "    <tr style=\"text-align: right;\">\n",
       "      <th></th>\n",
       "      <th>U</th>\n",
       "      <th>V</th>\n",
       "      <th>W</th>\n",
       "    </tr>\n",
       "  </thead>\n",
       "  <tbody>\n",
       "    <tr>\n",
       "      <th>b</th>\n",
       "      <td>0.461033</td>\n",
       "      <td>0.915845</td>\n",
       "      <td>0.622510</td>\n",
       "    </tr>\n",
       "    <tr>\n",
       "      <th>c</th>\n",
       "      <td>0.401120</td>\n",
       "      <td>0.745827</td>\n",
       "      <td>0.226633</td>\n",
       "    </tr>\n",
       "    <tr>\n",
       "      <th>d</th>\n",
       "      <td>0.109410</td>\n",
       "      <td>0.327664</td>\n",
       "      <td>0.245513</td>\n",
       "    </tr>\n",
       "  </tbody>\n",
       "</table>\n",
       "</div>"
      ],
      "text/plain": [
       "          U         V         W\n",
       "b  0.461033  0.915845  0.622510\n",
       "c  0.401120  0.745827  0.226633\n",
       "d  0.109410  0.327664  0.245513"
      ]
     },
     "execution_count": 48,
     "metadata": {},
     "output_type": "execute_result"
    }
   ],
   "source": [
    "betkas.iloc[[x for x in range(1, 4)], [y for y in range(0, 3)]]"
   ]
  },
  {
   "attachments": {},
   "cell_type": "markdown",
   "metadata": {},
   "source": [
    "### duomenu traukimas pagal salyga"
   ]
  },
  {
   "cell_type": "code",
   "execution_count": 52,
   "metadata": {},
   "outputs": [
    {
     "data": {
      "text/html": [
       "<div>\n",
       "<style scoped>\n",
       "    .dataframe tbody tr th:only-of-type {\n",
       "        vertical-align: middle;\n",
       "    }\n",
       "\n",
       "    .dataframe tbody tr th {\n",
       "        vertical-align: top;\n",
       "    }\n",
       "\n",
       "    .dataframe thead th {\n",
       "        text-align: right;\n",
       "    }\n",
       "</style>\n",
       "<table border=\"1\" class=\"dataframe\">\n",
       "  <thead>\n",
       "    <tr style=\"text-align: right;\">\n",
       "      <th></th>\n",
       "      <th>U</th>\n",
       "      <th>V</th>\n",
       "      <th>W</th>\n",
       "      <th>X</th>\n",
       "      <th>Y</th>\n",
       "      <th>Z</th>\n",
       "    </tr>\n",
       "  </thead>\n",
       "  <tbody>\n",
       "    <tr>\n",
       "      <th>a</th>\n",
       "      <td>NaN</td>\n",
       "      <td>0.842605</td>\n",
       "      <td>NaN</td>\n",
       "      <td>0.597436</td>\n",
       "      <td>0.931078</td>\n",
       "      <td>NaN</td>\n",
       "    </tr>\n",
       "    <tr>\n",
       "      <th>b</th>\n",
       "      <td>NaN</td>\n",
       "      <td>0.915845</td>\n",
       "      <td>0.622510</td>\n",
       "      <td>NaN</td>\n",
       "      <td>0.667111</td>\n",
       "      <td>NaN</td>\n",
       "    </tr>\n",
       "    <tr>\n",
       "      <th>c</th>\n",
       "      <td>NaN</td>\n",
       "      <td>0.745827</td>\n",
       "      <td>NaN</td>\n",
       "      <td>0.646661</td>\n",
       "      <td>NaN</td>\n",
       "      <td>0.675316</td>\n",
       "    </tr>\n",
       "    <tr>\n",
       "      <th>d</th>\n",
       "      <td>NaN</td>\n",
       "      <td>NaN</td>\n",
       "      <td>NaN</td>\n",
       "      <td>0.743072</td>\n",
       "      <td>0.899044</td>\n",
       "      <td>0.822337</td>\n",
       "    </tr>\n",
       "    <tr>\n",
       "      <th>e</th>\n",
       "      <td>NaN</td>\n",
       "      <td>0.994407</td>\n",
       "      <td>0.739405</td>\n",
       "      <td>0.554753</td>\n",
       "      <td>0.898844</td>\n",
       "      <td>NaN</td>\n",
       "    </tr>\n",
       "  </tbody>\n",
       "</table>\n",
       "</div>"
      ],
      "text/plain": [
       "    U         V         W         X         Y         Z\n",
       "a NaN  0.842605       NaN  0.597436  0.931078       NaN\n",
       "b NaN  0.915845  0.622510       NaN  0.667111       NaN\n",
       "c NaN  0.745827       NaN  0.646661       NaN  0.675316\n",
       "d NaN       NaN       NaN  0.743072  0.899044  0.822337\n",
       "e NaN  0.994407  0.739405  0.554753  0.898844       NaN"
      ]
     },
     "execution_count": 52,
     "metadata": {},
     "output_type": "execute_result"
    }
   ],
   "source": [
    "betkas[betkas > 0.5]"
   ]
  },
  {
   "cell_type": "code",
   "execution_count": 53,
   "metadata": {},
   "outputs": [
    {
     "data": {
      "text/html": [
       "<div>\n",
       "<style scoped>\n",
       "    .dataframe tbody tr th:only-of-type {\n",
       "        vertical-align: middle;\n",
       "    }\n",
       "\n",
       "    .dataframe tbody tr th {\n",
       "        vertical-align: top;\n",
       "    }\n",
       "\n",
       "    .dataframe thead th {\n",
       "        text-align: right;\n",
       "    }\n",
       "</style>\n",
       "<table border=\"1\" class=\"dataframe\">\n",
       "  <thead>\n",
       "    <tr style=\"text-align: right;\">\n",
       "      <th></th>\n",
       "      <th>U</th>\n",
       "      <th>V</th>\n",
       "      <th>W</th>\n",
       "      <th>X</th>\n",
       "      <th>Y</th>\n",
       "      <th>Z</th>\n",
       "    </tr>\n",
       "  </thead>\n",
       "  <tbody>\n",
       "    <tr>\n",
       "      <th>b</th>\n",
       "      <td>0.461033</td>\n",
       "      <td>0.915845</td>\n",
       "      <td>0.622510</td>\n",
       "      <td>0.492345</td>\n",
       "      <td>0.667111</td>\n",
       "      <td>0.318313</td>\n",
       "    </tr>\n",
       "    <tr>\n",
       "      <th>e</th>\n",
       "      <td>0.402905</td>\n",
       "      <td>0.994407</td>\n",
       "      <td>0.739405</td>\n",
       "      <td>0.554753</td>\n",
       "      <td>0.898844</td>\n",
       "      <td>0.461117</td>\n",
       "    </tr>\n",
       "  </tbody>\n",
       "</table>\n",
       "</div>"
      ],
      "text/plain": [
       "          U         V         W         X         Y         Z\n",
       "b  0.461033  0.915845  0.622510  0.492345  0.667111  0.318313\n",
       "e  0.402905  0.994407  0.739405  0.554753  0.898844  0.461117"
      ]
     },
     "execution_count": 53,
     "metadata": {},
     "output_type": "execute_result"
    }
   ],
   "source": [
    "betkas[betkas['W'] > 0.5]"
   ]
  },
  {
   "attachments": {},
   "cell_type": "markdown",
   "metadata": {},
   "source": [
    "### uzklausu kombinavimas"
   ]
  },
  {
   "cell_type": "code",
   "execution_count": 54,
   "metadata": {},
   "outputs": [
    {
     "data": {
      "text/html": [
       "<div>\n",
       "<style scoped>\n",
       "    .dataframe tbody tr th:only-of-type {\n",
       "        vertical-align: middle;\n",
       "    }\n",
       "\n",
       "    .dataframe tbody tr th {\n",
       "        vertical-align: top;\n",
       "    }\n",
       "\n",
       "    .dataframe thead th {\n",
       "        text-align: right;\n",
       "    }\n",
       "</style>\n",
       "<table border=\"1\" class=\"dataframe\">\n",
       "  <thead>\n",
       "    <tr style=\"text-align: right;\">\n",
       "      <th></th>\n",
       "      <th>U</th>\n",
       "      <th>W</th>\n",
       "      <th>Z</th>\n",
       "    </tr>\n",
       "  </thead>\n",
       "  <tbody>\n",
       "    <tr>\n",
       "      <th>b</th>\n",
       "      <td>0.461033</td>\n",
       "      <td>0.622510</td>\n",
       "      <td>0.318313</td>\n",
       "    </tr>\n",
       "    <tr>\n",
       "      <th>e</th>\n",
       "      <td>0.402905</td>\n",
       "      <td>0.739405</td>\n",
       "      <td>0.461117</td>\n",
       "    </tr>\n",
       "  </tbody>\n",
       "</table>\n",
       "</div>"
      ],
      "text/plain": [
       "          U         W         Z\n",
       "b  0.461033  0.622510  0.318313\n",
       "e  0.402905  0.739405  0.461117"
      ]
     },
     "execution_count": 54,
     "metadata": {},
     "output_type": "execute_result"
    }
   ],
   "source": [
    "betkas[betkas['W'] > 0.5][['U', 'W', 'Z']]"
   ]
  },
  {
   "attachments": {},
   "cell_type": "markdown",
   "metadata": {},
   "source": [
    "### salygu kombinavimas"
   ]
  },
  {
   "cell_type": "code",
   "execution_count": 57,
   "metadata": {},
   "outputs": [
    {
     "data": {
      "text/html": [
       "<div>\n",
       "<style scoped>\n",
       "    .dataframe tbody tr th:only-of-type {\n",
       "        vertical-align: middle;\n",
       "    }\n",
       "\n",
       "    .dataframe tbody tr th {\n",
       "        vertical-align: top;\n",
       "    }\n",
       "\n",
       "    .dataframe thead th {\n",
       "        text-align: right;\n",
       "    }\n",
       "</style>\n",
       "<table border=\"1\" class=\"dataframe\">\n",
       "  <thead>\n",
       "    <tr style=\"text-align: right;\">\n",
       "      <th></th>\n",
       "      <th>U</th>\n",
       "      <th>V</th>\n",
       "      <th>W</th>\n",
       "      <th>X</th>\n",
       "      <th>Y</th>\n",
       "      <th>Z</th>\n",
       "    </tr>\n",
       "  </thead>\n",
       "  <tbody>\n",
       "    <tr>\n",
       "      <th>b</th>\n",
       "      <td>0.461033</td>\n",
       "      <td>0.915845</td>\n",
       "      <td>0.622510</td>\n",
       "      <td>0.492345</td>\n",
       "      <td>0.667111</td>\n",
       "      <td>0.318313</td>\n",
       "    </tr>\n",
       "    <tr>\n",
       "      <th>e</th>\n",
       "      <td>0.402905</td>\n",
       "      <td>0.994407</td>\n",
       "      <td>0.739405</td>\n",
       "      <td>0.554753</td>\n",
       "      <td>0.898844</td>\n",
       "      <td>0.461117</td>\n",
       "    </tr>\n",
       "  </tbody>\n",
       "</table>\n",
       "</div>"
      ],
      "text/plain": [
       "          U         V         W         X         Y         Z\n",
       "b  0.461033  0.915845  0.622510  0.492345  0.667111  0.318313\n",
       "e  0.402905  0.994407  0.739405  0.554753  0.898844  0.461117"
      ]
     },
     "execution_count": 57,
     "metadata": {},
     "output_type": "execute_result"
    }
   ],
   "source": [
    "betkas[(betkas['W'] > 0.5) & (betkas['Z'] < 0.5)]"
   ]
  },
  {
   "cell_type": "code",
   "execution_count": 58,
   "metadata": {},
   "outputs": [
    {
     "data": {
      "text/html": [
       "<div>\n",
       "<style scoped>\n",
       "    .dataframe tbody tr th:only-of-type {\n",
       "        vertical-align: middle;\n",
       "    }\n",
       "\n",
       "    .dataframe tbody tr th {\n",
       "        vertical-align: top;\n",
       "    }\n",
       "\n",
       "    .dataframe thead th {\n",
       "        text-align: right;\n",
       "    }\n",
       "</style>\n",
       "<table border=\"1\" class=\"dataframe\">\n",
       "  <thead>\n",
       "    <tr style=\"text-align: right;\">\n",
       "      <th></th>\n",
       "      <th>W</th>\n",
       "      <th>Z</th>\n",
       "    </tr>\n",
       "  </thead>\n",
       "  <tbody>\n",
       "    <tr>\n",
       "      <th>b</th>\n",
       "      <td>0.622510</td>\n",
       "      <td>0.318313</td>\n",
       "    </tr>\n",
       "    <tr>\n",
       "      <th>e</th>\n",
       "      <td>0.739405</td>\n",
       "      <td>0.461117</td>\n",
       "    </tr>\n",
       "  </tbody>\n",
       "</table>\n",
       "</div>"
      ],
      "text/plain": [
       "          W         Z\n",
       "b  0.622510  0.318313\n",
       "e  0.739405  0.461117"
      ]
     },
     "execution_count": 58,
     "metadata": {},
     "output_type": "execute_result"
    }
   ],
   "source": [
    "betkas[(betkas['W'] > 0.5) & (betkas['Z'] < 0.5)][['W', 'Z']]"
   ]
  },
  {
   "attachments": {},
   "cell_type": "markdown",
   "metadata": {},
   "source": [
    "### operacijos su index stulpeliu"
   ]
  },
  {
   "cell_type": "code",
   "execution_count": 59,
   "metadata": {},
   "outputs": [
    {
     "data": {
      "text/html": [
       "<div>\n",
       "<style scoped>\n",
       "    .dataframe tbody tr th:only-of-type {\n",
       "        vertical-align: middle;\n",
       "    }\n",
       "\n",
       "    .dataframe tbody tr th {\n",
       "        vertical-align: top;\n",
       "    }\n",
       "\n",
       "    .dataframe thead th {\n",
       "        text-align: right;\n",
       "    }\n",
       "</style>\n",
       "<table border=\"1\" class=\"dataframe\">\n",
       "  <thead>\n",
       "    <tr style=\"text-align: right;\">\n",
       "      <th></th>\n",
       "      <th>index</th>\n",
       "      <th>U</th>\n",
       "      <th>V</th>\n",
       "      <th>W</th>\n",
       "      <th>X</th>\n",
       "      <th>Y</th>\n",
       "      <th>Z</th>\n",
       "    </tr>\n",
       "  </thead>\n",
       "  <tbody>\n",
       "    <tr>\n",
       "      <th>0</th>\n",
       "      <td>a</td>\n",
       "      <td>0.095444</td>\n",
       "      <td>0.842605</td>\n",
       "      <td>0.197930</td>\n",
       "      <td>0.597436</td>\n",
       "      <td>0.931078</td>\n",
       "      <td>0.079428</td>\n",
       "    </tr>\n",
       "    <tr>\n",
       "      <th>1</th>\n",
       "      <td>b</td>\n",
       "      <td>0.461033</td>\n",
       "      <td>0.915845</td>\n",
       "      <td>0.622510</td>\n",
       "      <td>0.492345</td>\n",
       "      <td>0.667111</td>\n",
       "      <td>0.318313</td>\n",
       "    </tr>\n",
       "    <tr>\n",
       "      <th>2</th>\n",
       "      <td>c</td>\n",
       "      <td>0.401120</td>\n",
       "      <td>0.745827</td>\n",
       "      <td>0.226633</td>\n",
       "      <td>0.646661</td>\n",
       "      <td>0.050342</td>\n",
       "      <td>0.675316</td>\n",
       "    </tr>\n",
       "    <tr>\n",
       "      <th>3</th>\n",
       "      <td>d</td>\n",
       "      <td>0.109410</td>\n",
       "      <td>0.327664</td>\n",
       "      <td>0.245513</td>\n",
       "      <td>0.743072</td>\n",
       "      <td>0.899044</td>\n",
       "      <td>0.822337</td>\n",
       "    </tr>\n",
       "    <tr>\n",
       "      <th>4</th>\n",
       "      <td>e</td>\n",
       "      <td>0.402905</td>\n",
       "      <td>0.994407</td>\n",
       "      <td>0.739405</td>\n",
       "      <td>0.554753</td>\n",
       "      <td>0.898844</td>\n",
       "      <td>0.461117</td>\n",
       "    </tr>\n",
       "  </tbody>\n",
       "</table>\n",
       "</div>"
      ],
      "text/plain": [
       "  index         U         V         W         X         Y         Z\n",
       "0     a  0.095444  0.842605  0.197930  0.597436  0.931078  0.079428\n",
       "1     b  0.461033  0.915845  0.622510  0.492345  0.667111  0.318313\n",
       "2     c  0.401120  0.745827  0.226633  0.646661  0.050342  0.675316\n",
       "3     d  0.109410  0.327664  0.245513  0.743072  0.899044  0.822337\n",
       "4     e  0.402905  0.994407  0.739405  0.554753  0.898844  0.461117"
      ]
     },
     "execution_count": 59,
     "metadata": {},
     "output_type": "execute_result"
    }
   ],
   "source": [
    "betkas.reset_index()"
   ]
  },
  {
   "cell_type": "code",
   "execution_count": 60,
   "metadata": {},
   "outputs": [
    {
     "data": {
      "text/html": [
       "<div>\n",
       "<style scoped>\n",
       "    .dataframe tbody tr th:only-of-type {\n",
       "        vertical-align: middle;\n",
       "    }\n",
       "\n",
       "    .dataframe tbody tr th {\n",
       "        vertical-align: top;\n",
       "    }\n",
       "\n",
       "    .dataframe thead th {\n",
       "        text-align: right;\n",
       "    }\n",
       "</style>\n",
       "<table border=\"1\" class=\"dataframe\">\n",
       "  <thead>\n",
       "    <tr style=\"text-align: right;\">\n",
       "      <th></th>\n",
       "      <th>U</th>\n",
       "      <th>V</th>\n",
       "      <th>W</th>\n",
       "      <th>X</th>\n",
       "      <th>Y</th>\n",
       "      <th>Z</th>\n",
       "    </tr>\n",
       "  </thead>\n",
       "  <tbody>\n",
       "    <tr>\n",
       "      <th>a</th>\n",
       "      <td>0.095444</td>\n",
       "      <td>0.842605</td>\n",
       "      <td>0.197930</td>\n",
       "      <td>0.597436</td>\n",
       "      <td>0.931078</td>\n",
       "      <td>0.079428</td>\n",
       "    </tr>\n",
       "    <tr>\n",
       "      <th>b</th>\n",
       "      <td>0.461033</td>\n",
       "      <td>0.915845</td>\n",
       "      <td>0.622510</td>\n",
       "      <td>0.492345</td>\n",
       "      <td>0.667111</td>\n",
       "      <td>0.318313</td>\n",
       "    </tr>\n",
       "    <tr>\n",
       "      <th>c</th>\n",
       "      <td>0.401120</td>\n",
       "      <td>0.745827</td>\n",
       "      <td>0.226633</td>\n",
       "      <td>0.646661</td>\n",
       "      <td>0.050342</td>\n",
       "      <td>0.675316</td>\n",
       "    </tr>\n",
       "    <tr>\n",
       "      <th>d</th>\n",
       "      <td>0.109410</td>\n",
       "      <td>0.327664</td>\n",
       "      <td>0.245513</td>\n",
       "      <td>0.743072</td>\n",
       "      <td>0.899044</td>\n",
       "      <td>0.822337</td>\n",
       "    </tr>\n",
       "    <tr>\n",
       "      <th>e</th>\n",
       "      <td>0.402905</td>\n",
       "      <td>0.994407</td>\n",
       "      <td>0.739405</td>\n",
       "      <td>0.554753</td>\n",
       "      <td>0.898844</td>\n",
       "      <td>0.461117</td>\n",
       "    </tr>\n",
       "  </tbody>\n",
       "</table>\n",
       "</div>"
      ],
      "text/plain": [
       "          U         V         W         X         Y         Z\n",
       "a  0.095444  0.842605  0.197930  0.597436  0.931078  0.079428\n",
       "b  0.461033  0.915845  0.622510  0.492345  0.667111  0.318313\n",
       "c  0.401120  0.745827  0.226633  0.646661  0.050342  0.675316\n",
       "d  0.109410  0.327664  0.245513  0.743072  0.899044  0.822337\n",
       "e  0.402905  0.994407  0.739405  0.554753  0.898844  0.461117"
      ]
     },
     "execution_count": 60,
     "metadata": {},
     "output_type": "execute_result"
    }
   ],
   "source": [
    "betkas"
   ]
  },
  {
   "cell_type": "code",
   "execution_count": 66,
   "metadata": {},
   "outputs": [
    {
     "data": {
      "text/html": [
       "<div>\n",
       "<style scoped>\n",
       "    .dataframe tbody tr th:only-of-type {\n",
       "        vertical-align: middle;\n",
       "    }\n",
       "\n",
       "    .dataframe tbody tr th {\n",
       "        vertical-align: top;\n",
       "    }\n",
       "\n",
       "    .dataframe thead th {\n",
       "        text-align: right;\n",
       "    }\n",
       "</style>\n",
       "<table border=\"1\" class=\"dataframe\">\n",
       "  <thead>\n",
       "    <tr style=\"text-align: right;\">\n",
       "      <th></th>\n",
       "      <th>U</th>\n",
       "      <th>V</th>\n",
       "      <th>W</th>\n",
       "      <th>X</th>\n",
       "      <th>Y</th>\n",
       "      <th>Z</th>\n",
       "      <th>Miestas</th>\n",
       "    </tr>\n",
       "  </thead>\n",
       "  <tbody>\n",
       "    <tr>\n",
       "      <th>a</th>\n",
       "      <td>0.095444</td>\n",
       "      <td>0.842605</td>\n",
       "      <td>0.197930</td>\n",
       "      <td>0.597436</td>\n",
       "      <td>0.931078</td>\n",
       "      <td>0.079428</td>\n",
       "      <td>Vilnius</td>\n",
       "    </tr>\n",
       "    <tr>\n",
       "      <th>b</th>\n",
       "      <td>0.461033</td>\n",
       "      <td>0.915845</td>\n",
       "      <td>0.622510</td>\n",
       "      <td>0.492345</td>\n",
       "      <td>0.667111</td>\n",
       "      <td>0.318313</td>\n",
       "      <td>Kaunas</td>\n",
       "    </tr>\n",
       "    <tr>\n",
       "      <th>c</th>\n",
       "      <td>0.401120</td>\n",
       "      <td>0.745827</td>\n",
       "      <td>0.226633</td>\n",
       "      <td>0.646661</td>\n",
       "      <td>0.050342</td>\n",
       "      <td>0.675316</td>\n",
       "      <td>Klaipeda</td>\n",
       "    </tr>\n",
       "    <tr>\n",
       "      <th>d</th>\n",
       "      <td>0.109410</td>\n",
       "      <td>0.327664</td>\n",
       "      <td>0.245513</td>\n",
       "      <td>0.743072</td>\n",
       "      <td>0.899044</td>\n",
       "      <td>0.822337</td>\n",
       "      <td>Palanga</td>\n",
       "    </tr>\n",
       "    <tr>\n",
       "      <th>e</th>\n",
       "      <td>0.402905</td>\n",
       "      <td>0.994407</td>\n",
       "      <td>0.739405</td>\n",
       "      <td>0.554753</td>\n",
       "      <td>0.898844</td>\n",
       "      <td>0.461117</td>\n",
       "      <td>Kretinga</td>\n",
       "    </tr>\n",
       "  </tbody>\n",
       "</table>\n",
       "</div>"
      ],
      "text/plain": [
       "          U         V         W         X         Y         Z   Miestas\n",
       "a  0.095444  0.842605  0.197930  0.597436  0.931078  0.079428   Vilnius\n",
       "b  0.461033  0.915845  0.622510  0.492345  0.667111  0.318313    Kaunas\n",
       "c  0.401120  0.745827  0.226633  0.646661  0.050342  0.675316  Klaipeda\n",
       "d  0.109410  0.327664  0.245513  0.743072  0.899044  0.822337   Palanga\n",
       "e  0.402905  0.994407  0.739405  0.554753  0.898844  0.461117  Kretinga"
      ]
     },
     "execution_count": 66,
     "metadata": {},
     "output_type": "execute_result"
    }
   ],
   "source": [
    "naujas_indeksas = 'Vilnius Kaunas Klaipeda Palanga Kretinga'.split()\n",
    "betkas['Miestas'] = naujas_indeksas\n",
    "betkas"
   ]
  },
  {
   "cell_type": "code",
   "execution_count": 67,
   "metadata": {},
   "outputs": [],
   "source": [
    "miestu_betkas = betkas.set_index('Miestas')"
   ]
  },
  {
   "cell_type": "code",
   "execution_count": 70,
   "metadata": {},
   "outputs": [],
   "source": [
    "betkas.drop('Miestas', axis=1, inplace=True)"
   ]
  },
  {
   "cell_type": "code",
   "execution_count": 72,
   "metadata": {},
   "outputs": [
    {
     "data": {
      "text/html": [
       "<div>\n",
       "<style scoped>\n",
       "    .dataframe tbody tr th:only-of-type {\n",
       "        vertical-align: middle;\n",
       "    }\n",
       "\n",
       "    .dataframe tbody tr th {\n",
       "        vertical-align: top;\n",
       "    }\n",
       "\n",
       "    .dataframe thead th {\n",
       "        text-align: right;\n",
       "    }\n",
       "</style>\n",
       "<table border=\"1\" class=\"dataframe\">\n",
       "  <thead>\n",
       "    <tr style=\"text-align: right;\">\n",
       "      <th></th>\n",
       "      <th>U</th>\n",
       "      <th>V</th>\n",
       "      <th>W</th>\n",
       "      <th>X</th>\n",
       "      <th>Y</th>\n",
       "      <th>Z</th>\n",
       "    </tr>\n",
       "  </thead>\n",
       "  <tbody>\n",
       "    <tr>\n",
       "      <th>a</th>\n",
       "      <td>0.095444</td>\n",
       "      <td>0.842605</td>\n",
       "      <td>0.197930</td>\n",
       "      <td>0.597436</td>\n",
       "      <td>0.931078</td>\n",
       "      <td>0.079428</td>\n",
       "    </tr>\n",
       "    <tr>\n",
       "      <th>b</th>\n",
       "      <td>0.461033</td>\n",
       "      <td>0.915845</td>\n",
       "      <td>0.622510</td>\n",
       "      <td>0.492345</td>\n",
       "      <td>0.667111</td>\n",
       "      <td>0.318313</td>\n",
       "    </tr>\n",
       "    <tr>\n",
       "      <th>c</th>\n",
       "      <td>0.401120</td>\n",
       "      <td>0.745827</td>\n",
       "      <td>0.226633</td>\n",
       "      <td>0.646661</td>\n",
       "      <td>0.050342</td>\n",
       "      <td>0.675316</td>\n",
       "    </tr>\n",
       "    <tr>\n",
       "      <th>d</th>\n",
       "      <td>0.109410</td>\n",
       "      <td>0.327664</td>\n",
       "      <td>0.245513</td>\n",
       "      <td>0.743072</td>\n",
       "      <td>0.899044</td>\n",
       "      <td>0.822337</td>\n",
       "    </tr>\n",
       "    <tr>\n",
       "      <th>e</th>\n",
       "      <td>0.402905</td>\n",
       "      <td>0.994407</td>\n",
       "      <td>0.739405</td>\n",
       "      <td>0.554753</td>\n",
       "      <td>0.898844</td>\n",
       "      <td>0.461117</td>\n",
       "    </tr>\n",
       "  </tbody>\n",
       "</table>\n",
       "</div>"
      ],
      "text/plain": [
       "          U         V         W         X         Y         Z\n",
       "a  0.095444  0.842605  0.197930  0.597436  0.931078  0.079428\n",
       "b  0.461033  0.915845  0.622510  0.492345  0.667111  0.318313\n",
       "c  0.401120  0.745827  0.226633  0.646661  0.050342  0.675316\n",
       "d  0.109410  0.327664  0.245513  0.743072  0.899044  0.822337\n",
       "e  0.402905  0.994407  0.739405  0.554753  0.898844  0.461117"
      ]
     },
     "execution_count": 72,
     "metadata": {},
     "output_type": "execute_result"
    }
   ],
   "source": [
    "betkas"
   ]
  },
  {
   "cell_type": "code",
   "execution_count": 71,
   "metadata": {},
   "outputs": [
    {
     "data": {
      "text/html": [
       "<div>\n",
       "<style scoped>\n",
       "    .dataframe tbody tr th:only-of-type {\n",
       "        vertical-align: middle;\n",
       "    }\n",
       "\n",
       "    .dataframe tbody tr th {\n",
       "        vertical-align: top;\n",
       "    }\n",
       "\n",
       "    .dataframe thead th {\n",
       "        text-align: right;\n",
       "    }\n",
       "</style>\n",
       "<table border=\"1\" class=\"dataframe\">\n",
       "  <thead>\n",
       "    <tr style=\"text-align: right;\">\n",
       "      <th></th>\n",
       "      <th>U</th>\n",
       "      <th>V</th>\n",
       "      <th>W</th>\n",
       "      <th>X</th>\n",
       "      <th>Y</th>\n",
       "      <th>Z</th>\n",
       "    </tr>\n",
       "    <tr>\n",
       "      <th>Miestas</th>\n",
       "      <th></th>\n",
       "      <th></th>\n",
       "      <th></th>\n",
       "      <th></th>\n",
       "      <th></th>\n",
       "      <th></th>\n",
       "    </tr>\n",
       "  </thead>\n",
       "  <tbody>\n",
       "    <tr>\n",
       "      <th>Vilnius</th>\n",
       "      <td>0.095444</td>\n",
       "      <td>0.842605</td>\n",
       "      <td>0.197930</td>\n",
       "      <td>0.597436</td>\n",
       "      <td>0.931078</td>\n",
       "      <td>0.079428</td>\n",
       "    </tr>\n",
       "    <tr>\n",
       "      <th>Kaunas</th>\n",
       "      <td>0.461033</td>\n",
       "      <td>0.915845</td>\n",
       "      <td>0.622510</td>\n",
       "      <td>0.492345</td>\n",
       "      <td>0.667111</td>\n",
       "      <td>0.318313</td>\n",
       "    </tr>\n",
       "    <tr>\n",
       "      <th>Klaipeda</th>\n",
       "      <td>0.401120</td>\n",
       "      <td>0.745827</td>\n",
       "      <td>0.226633</td>\n",
       "      <td>0.646661</td>\n",
       "      <td>0.050342</td>\n",
       "      <td>0.675316</td>\n",
       "    </tr>\n",
       "    <tr>\n",
       "      <th>Palanga</th>\n",
       "      <td>0.109410</td>\n",
       "      <td>0.327664</td>\n",
       "      <td>0.245513</td>\n",
       "      <td>0.743072</td>\n",
       "      <td>0.899044</td>\n",
       "      <td>0.822337</td>\n",
       "    </tr>\n",
       "    <tr>\n",
       "      <th>Kretinga</th>\n",
       "      <td>0.402905</td>\n",
       "      <td>0.994407</td>\n",
       "      <td>0.739405</td>\n",
       "      <td>0.554753</td>\n",
       "      <td>0.898844</td>\n",
       "      <td>0.461117</td>\n",
       "    </tr>\n",
       "  </tbody>\n",
       "</table>\n",
       "</div>"
      ],
      "text/plain": [
       "                 U         V         W         X         Y         Z\n",
       "Miestas                                                             \n",
       "Vilnius   0.095444  0.842605  0.197930  0.597436  0.931078  0.079428\n",
       "Kaunas    0.461033  0.915845  0.622510  0.492345  0.667111  0.318313\n",
       "Klaipeda  0.401120  0.745827  0.226633  0.646661  0.050342  0.675316\n",
       "Palanga   0.109410  0.327664  0.245513  0.743072  0.899044  0.822337\n",
       "Kretinga  0.402905  0.994407  0.739405  0.554753  0.898844  0.461117"
      ]
     },
     "execution_count": 71,
     "metadata": {},
     "output_type": "execute_result"
    }
   ],
   "source": [
    "miestu_betkas"
   ]
  }
 ],
 "metadata": {
  "kernelspec": {
   "display_name": "venv",
   "language": "python",
   "name": "python3"
  },
  "language_info": {
   "codemirror_mode": {
    "name": "ipython",
    "version": 3
   },
   "file_extension": ".py",
   "mimetype": "text/x-python",
   "name": "python",
   "nbconvert_exporter": "python",
   "pygments_lexer": "ipython3",
   "version": "3.10.9"
  },
  "orig_nbformat": 4,
  "vscode": {
   "interpreter": {
    "hash": "c45aa5459b9a1cefa759617f524b65e98df9772569b55aaad1035e6eb843a449"
   }
  }
 },
 "nbformat": 4,
 "nbformat_minor": 2
}
