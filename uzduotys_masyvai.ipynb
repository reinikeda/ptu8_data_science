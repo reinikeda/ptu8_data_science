{
 "cells": [
  {
   "attachments": {},
   "cell_type": "markdown",
   "metadata": {},
   "source": [
    "### Sukurti programą, kuri: prie kiekvieno sakinio \"The Zen of Python\" žodžio pridėtų šauktuką ir atspausdintų naują sakinį."
   ]
  },
  {
   "cell_type": "code",
   "execution_count": 31,
   "metadata": {},
   "outputs": [
    {
     "data": {
      "text/plain": [
       "'The! Zen! of! Python!'"
      ]
     },
     "execution_count": 31,
     "metadata": {},
     "output_type": "execute_result"
    }
   ],
   "source": [
    "# Sukurti programą, kuri:\n",
    "# Prie kiekvieno sakinio \"The Zen of Python\" žodžio pridėtų šauktuką ir atspausdintų naują sakinį.\n",
    "\n",
    "tekstas = 'The Zen of Python'\n",
    "\n",
    "naujas = map(lambda x: x + '!', tekstas.split(' '))\n",
    "sujungta = ' '.join(naujas)\n",
    "sujungta"
   ]
  },
  {
   "cell_type": "code",
   "execution_count": 5,
   "metadata": {},
   "outputs": [],
   "source": [
    "# Sukurti programą, kuri:\n",
    "#     Sukurtų sąrašą iš skaičių nuo 0 iki 50\n",
    "#     Padaugintų visus sąrašo skaičius iš 10 ir atspausdintų\n",
    "#     Atrinktų iš sąrašo skaičius, kurie dalinasi iš 7 ir atspausdintų\n",
    "#     Pakeltų visus sąrašo skaičius kvadratu ir atspausdintų. Šį sąrašą (list masyvą) priskirti naujam kintamajam.\n",
    "#     Su kvadratų sąrašu (nauju kintamuoju) atliktų šiuos veiksmus: atspausdintų sumą, mažiausią ir didžiausią skaičių, vidurkį, medianą\n",
    "#     Surūšiuotų ir atspausdintų kvadratų sąrašą atbulai\n",
    "\n",
    "# Patarimai:\n",
    "#     Naudoti map, filter arba comprehension, sum, min, max, mean, median, %\n",
    "#     from statistics import mean, median"
   ]
  },
  {
   "cell_type": "code",
   "execution_count": 6,
   "metadata": {},
   "outputs": [
    {
     "data": {
      "text/plain": [
       "[0,\n",
       " 1,\n",
       " 2,\n",
       " 3,\n",
       " 4,\n",
       " 5,\n",
       " 6,\n",
       " 7,\n",
       " 8,\n",
       " 9,\n",
       " 10,\n",
       " 11,\n",
       " 12,\n",
       " 13,\n",
       " 14,\n",
       " 15,\n",
       " 16,\n",
       " 17,\n",
       " 18,\n",
       " 19,\n",
       " 20,\n",
       " 21,\n",
       " 22,\n",
       " 23,\n",
       " 24,\n",
       " 25,\n",
       " 26,\n",
       " 27,\n",
       " 28,\n",
       " 29,\n",
       " 30,\n",
       " 31,\n",
       " 32,\n",
       " 33,\n",
       " 34,\n",
       " 35,\n",
       " 36,\n",
       " 37,\n",
       " 38,\n",
       " 39,\n",
       " 40,\n",
       " 41,\n",
       " 42,\n",
       " 43,\n",
       " 44,\n",
       " 45,\n",
       " 46,\n",
       " 47,\n",
       " 48,\n",
       " 49]"
      ]
     },
     "execution_count": 6,
     "metadata": {},
     "output_type": "execute_result"
    }
   ],
   "source": [
    "sarasas = list(range(0, 50))\n",
    "sarasas"
   ]
  },
  {
   "cell_type": "code",
   "execution_count": 7,
   "metadata": {},
   "outputs": [
    {
     "data": {
      "text/plain": [
       "[0,\n",
       " 10,\n",
       " 20,\n",
       " 30,\n",
       " 40,\n",
       " 50,\n",
       " 60,\n",
       " 70,\n",
       " 80,\n",
       " 90,\n",
       " 100,\n",
       " 110,\n",
       " 120,\n",
       " 130,\n",
       " 140,\n",
       " 150,\n",
       " 160,\n",
       " 170,\n",
       " 180,\n",
       " 190,\n",
       " 200,\n",
       " 210,\n",
       " 220,\n",
       " 230,\n",
       " 240,\n",
       " 250,\n",
       " 260,\n",
       " 270,\n",
       " 280,\n",
       " 290,\n",
       " 300,\n",
       " 310,\n",
       " 320,\n",
       " 330,\n",
       " 340,\n",
       " 350,\n",
       " 360,\n",
       " 370,\n",
       " 380,\n",
       " 390,\n",
       " 400,\n",
       " 410,\n",
       " 420,\n",
       " 430,\n",
       " 440,\n",
       " 450,\n",
       " 460,\n",
       " 470,\n",
       " 480,\n",
       " 490]"
      ]
     },
     "execution_count": 7,
     "metadata": {},
     "output_type": "execute_result"
    }
   ],
   "source": [
    "padaugintas = map(lambda x: x*10, sarasas)\n",
    "list(padaugintas)"
   ]
  },
  {
   "cell_type": "code",
   "execution_count": 8,
   "metadata": {},
   "outputs": [
    {
     "data": {
      "text/plain": [
       "[0, 7, 14, 21, 28, 35, 42, 49]"
      ]
     },
     "execution_count": 8,
     "metadata": {},
     "output_type": "execute_result"
    }
   ],
   "source": [
    "septyni = filter(lambda x: x % 7 == 0, sarasas)\n",
    "list(septyni)"
   ]
  },
  {
   "cell_type": "code",
   "execution_count": 9,
   "metadata": {},
   "outputs": [
    {
     "data": {
      "text/plain": [
       "[0,\n",
       " 1,\n",
       " 4,\n",
       " 9,\n",
       " 16,\n",
       " 25,\n",
       " 36,\n",
       " 49,\n",
       " 64,\n",
       " 81,\n",
       " 100,\n",
       " 121,\n",
       " 144,\n",
       " 169,\n",
       " 196,\n",
       " 225,\n",
       " 256,\n",
       " 289,\n",
       " 324,\n",
       " 361,\n",
       " 400,\n",
       " 441,\n",
       " 484,\n",
       " 529,\n",
       " 576,\n",
       " 625,\n",
       " 676,\n",
       " 729,\n",
       " 784,\n",
       " 841,\n",
       " 900,\n",
       " 961,\n",
       " 1024,\n",
       " 1089,\n",
       " 1156,\n",
       " 1225,\n",
       " 1296,\n",
       " 1369,\n",
       " 1444,\n",
       " 1521,\n",
       " 1600,\n",
       " 1681,\n",
       " 1764,\n",
       " 1849,\n",
       " 1936,\n",
       " 2025,\n",
       " 2116,\n",
       " 2209,\n",
       " 2304,\n",
       " 2401]"
      ]
     },
     "execution_count": 9,
     "metadata": {},
     "output_type": "execute_result"
    }
   ],
   "source": [
    "naujas_sarasas = []\n",
    "kvardatu = list(map(lambda x: x ** 2, sarasas))\n",
    "list(kvardatu)"
   ]
  },
  {
   "cell_type": "code",
   "execution_count": 10,
   "metadata": {},
   "outputs": [
    {
     "data": {
      "text/plain": [
       "40425"
      ]
     },
     "execution_count": 10,
     "metadata": {},
     "output_type": "execute_result"
    }
   ],
   "source": [
    "sum(kvardatu)"
   ]
  },
  {
   "cell_type": "code",
   "execution_count": 11,
   "metadata": {},
   "outputs": [
    {
     "data": {
      "text/plain": [
       "0"
      ]
     },
     "execution_count": 11,
     "metadata": {},
     "output_type": "execute_result"
    }
   ],
   "source": [
    "min(kvardatu)"
   ]
  },
  {
   "cell_type": "code",
   "execution_count": 12,
   "metadata": {},
   "outputs": [
    {
     "data": {
      "text/plain": [
       "2401"
      ]
     },
     "execution_count": 12,
     "metadata": {},
     "output_type": "execute_result"
    }
   ],
   "source": [
    "max(kvardatu)"
   ]
  },
  {
   "cell_type": "code",
   "execution_count": 13,
   "metadata": {},
   "outputs": [],
   "source": [
    "from statistics import mean, median"
   ]
  },
  {
   "cell_type": "code",
   "execution_count": 14,
   "metadata": {},
   "outputs": [
    {
     "data": {
      "text/plain": [
       "808.5"
      ]
     },
     "execution_count": 14,
     "metadata": {},
     "output_type": "execute_result"
    }
   ],
   "source": [
    "mean(kvardatu)"
   ]
  },
  {
   "cell_type": "code",
   "execution_count": 15,
   "metadata": {},
   "outputs": [
    {
     "data": {
      "text/plain": [
       "600.5"
      ]
     },
     "execution_count": 15,
     "metadata": {},
     "output_type": "execute_result"
    }
   ],
   "source": [
    "median(kvardatu)"
   ]
  },
  {
   "cell_type": "code",
   "execution_count": 16,
   "metadata": {},
   "outputs": [
    {
     "data": {
      "text/plain": [
       "[2401,\n",
       " 2304,\n",
       " 2209,\n",
       " 2116,\n",
       " 2025,\n",
       " 1936,\n",
       " 1849,\n",
       " 1764,\n",
       " 1681,\n",
       " 1600,\n",
       " 1521,\n",
       " 1444,\n",
       " 1369,\n",
       " 1296,\n",
       " 1225,\n",
       " 1156,\n",
       " 1089,\n",
       " 1024,\n",
       " 961,\n",
       " 900,\n",
       " 841,\n",
       " 784,\n",
       " 729,\n",
       " 676,\n",
       " 625,\n",
       " 576,\n",
       " 529,\n",
       " 484,\n",
       " 441,\n",
       " 400,\n",
       " 361,\n",
       " 324,\n",
       " 289,\n",
       " 256,\n",
       " 225,\n",
       " 196,\n",
       " 169,\n",
       " 144,\n",
       " 121,\n",
       " 100,\n",
       " 81,\n",
       " 64,\n",
       " 49,\n",
       " 36,\n",
       " 25,\n",
       " 16,\n",
       " 9,\n",
       " 4,\n",
       " 1,\n",
       " 0]"
      ]
     },
     "execution_count": 16,
     "metadata": {},
     "output_type": "execute_result"
    }
   ],
   "source": [
    "kvardatu.sort(reverse=True)\n",
    "kvardatu"
   ]
  },
  {
   "cell_type": "code",
   "execution_count": 17,
   "metadata": {},
   "outputs": [],
   "source": [
    "# Duotas sąrašas: sarasas = [2.5, 2, \"Labas\", True, 5, 7, 8, 2.8, \"Vakaras\"]\n",
    "\n",
    "# Sukurti programą, kuri:\n",
    "#     Paskaičiuotų ir atspausdintų visų sąrašo skaičių sumą\n",
    "#     Sudėtų ir atspausdintų visus sąrašo žodžius\n",
    "#     Suskaičiuotų ir atspausdintų, kiek sąraše yra loginių (boolean) kintamųjų su True reikšme\n",
    "\n",
    "# Patarimai:\n",
    "#     Naudoti filter arba comprehension, sum, \" \".join()"
   ]
  },
  {
   "cell_type": "code",
   "execution_count": 18,
   "metadata": {},
   "outputs": [],
   "source": [
    "sarasas = [2.5, 2, \"Labas\", True, 5, 7, 8, 2.8, \"Vakaras\"]"
   ]
  },
  {
   "cell_type": "code",
   "execution_count": 19,
   "metadata": {},
   "outputs": [
    {
     "data": {
      "text/plain": [
       "27.3"
      ]
     },
     "execution_count": 19,
     "metadata": {},
     "output_type": "execute_result"
    }
   ],
   "source": [
    "skaiciu_suma = sum(x for x in sarasas if type(x) is int or type(x) is float)\n",
    "skaiciu_suma"
   ]
  },
  {
   "cell_type": "code",
   "execution_count": 20,
   "metadata": {},
   "outputs": [
    {
     "data": {
      "text/plain": [
       "'Labas Vakaras'"
      ]
     },
     "execution_count": 20,
     "metadata": {},
     "output_type": "execute_result"
    }
   ],
   "source": [
    "zodziai = [x for x in sarasas if type(x) is str]\n",
    "sakinys = ' '.join(zodziai)\n",
    "sakinys"
   ]
  },
  {
   "cell_type": "code",
   "execution_count": 21,
   "metadata": {},
   "outputs": [
    {
     "data": {
      "text/plain": [
       "1"
      ]
     },
     "execution_count": 21,
     "metadata": {},
     "output_type": "execute_result"
    }
   ],
   "source": [
    "bool_true = sum(x for x in sarasas if type(x) is bool and x == True)\n",
    "bool_true"
   ]
  },
  {
   "cell_type": "code",
   "execution_count": 22,
   "metadata": {},
   "outputs": [],
   "source": [
    "# Sukurti programą, kuri:\n",
    "#     Turėtų klasę Zmogus, su savybėmis vardas ir amzius\n",
    "#     Klasėje būtų repr metodas, kuris atvaizduotų vardą ir amžių\n",
    "#     Inicijuoti kelis Zmogus objektus su vardais ir amžiais\n",
    "#     Įdėti sukurtus Zmogus objektus į naują sąrašą\n",
    "#     Surūšiuotų ir atspausdintų sąrašo objektus pagal vardą ir pagal amžių (ir atbulai)\n",
    "\n",
    "# Patarimai:\n",
    "#     Naudoti sorted, attrgetter, reverse, funkciją repr\n",
    "#     from operator import attrgetter"
   ]
  },
  {
   "cell_type": "code",
   "execution_count": 23,
   "metadata": {},
   "outputs": [],
   "source": [
    "class Zmogus:\n",
    "    def __init__(self, vardas, amzius):\n",
    "        self.vardas = vardas\n",
    "        self.amzius = amzius\n",
    "\n",
    "    def __repr__(self) -> str:\n",
    "        return f'{self.vardas}, {self.amzius}'\n",
    "\n",
    "pirmas = Zmogus('Petras', 40)\n",
    "antras = Zmogus('Jonas', 36)\n",
    "trecias = Zmogus('Birute', 38)\n",
    "ketvirtas = Zmogus('Morta', 44)\n",
    "\n",
    "sarasas = [pirmas, antras, trecias, ketvirtas]"
   ]
  },
  {
   "cell_type": "code",
   "execution_count": 24,
   "metadata": {},
   "outputs": [],
   "source": [
    "from operator import attrgetter"
   ]
  },
  {
   "cell_type": "code",
   "execution_count": 25,
   "metadata": {},
   "outputs": [
    {
     "data": {
      "text/plain": [
       "[Birute, 38, Jonas, 36, Morta, 44, Petras, 40]"
      ]
     },
     "execution_count": 25,
     "metadata": {},
     "output_type": "execute_result"
    }
   ],
   "source": [
    "pagal_varda = sorted(sarasas, key=attrgetter('vardas'))\n",
    "pagal_varda"
   ]
  },
  {
   "cell_type": "code",
   "execution_count": 26,
   "metadata": {},
   "outputs": [
    {
     "data": {
      "text/plain": [
       "[Petras, 40, Morta, 44, Jonas, 36, Birute, 38]"
      ]
     },
     "execution_count": 26,
     "metadata": {},
     "output_type": "execute_result"
    }
   ],
   "source": [
    "pagal_varda = sorted(sarasas, key=attrgetter('vardas'), reverse=True)\n",
    "pagal_varda"
   ]
  },
  {
   "cell_type": "code",
   "execution_count": 27,
   "metadata": {},
   "outputs": [
    {
     "data": {
      "text/plain": [
       "[Jonas, 36, Birute, 38, Petras, 40, Morta, 44]"
      ]
     },
     "execution_count": 27,
     "metadata": {},
     "output_type": "execute_result"
    }
   ],
   "source": [
    "pagal_amziu = sorted(sarasas, key=attrgetter('amzius'))\n",
    "pagal_amziu"
   ]
  },
  {
   "cell_type": "code",
   "execution_count": 28,
   "metadata": {},
   "outputs": [
    {
     "data": {
      "text/plain": [
       "[Morta, 44, Petras, 40, Birute, 38, Jonas, 36]"
      ]
     },
     "execution_count": 28,
     "metadata": {},
     "output_type": "execute_result"
    }
   ],
   "source": [
    "pagal_amziu = sorted(sarasas, key=attrgetter('amzius'), reverse=True)\n",
    "pagal_amziu"
   ]
  }
 ],
 "metadata": {
  "kernelspec": {
   "display_name": "venv",
   "language": "python",
   "name": "python3"
  },
  "language_info": {
   "codemirror_mode": {
    "name": "ipython",
    "version": 3
   },
   "file_extension": ".py",
   "mimetype": "text/x-python",
   "name": "python",
   "nbconvert_exporter": "python",
   "pygments_lexer": "ipython3",
   "version": "3.10.9"
  },
  "orig_nbformat": 4,
  "vscode": {
   "interpreter": {
    "hash": "c45aa5459b9a1cefa759617f524b65e98df9772569b55aaad1035e6eb843a449"
   }
  }
 },
 "nbformat": 4,
 "nbformat_minor": 2
}
