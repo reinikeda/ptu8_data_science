{
 "cells": [
  {
   "cell_type": "code",
   "execution_count": 198,
   "metadata": {},
   "outputs": [],
   "source": [
    "# Parašykite dekoratorių kuris riboja parametrų kiekį (tarkime, ne daugiau negu 2 parametrai funkcijai)\n",
    "from functools import wraps\n",
    "\n",
    "def param_limitas(fn):\n",
    "    @wraps(fn)\n",
    "    def wrapper(*args, **kwargs):\n",
    "        if len(args) > 2:\n",
    "            return 'per daug parametru'\n",
    "        else:\n",
    "            return fn(*args, **kwargs)\n",
    "    return wrapper"
   ]
  },
  {
   "cell_type": "code",
   "execution_count": 199,
   "metadata": {},
   "outputs": [],
   "source": [
    "# parašykite dekoratorių, kuris atideda funkcijos vykdymą 3s\n",
    "from time import sleep\n",
    "\n",
    "def velavimas(sekundes):\n",
    "    def velavimas(fn):\n",
    "        @wraps(fn)\n",
    "        def wrapper(*args, **kwargs):\n",
    "            print(f'funkcija bus atideta {sekundes} sekundems')\n",
    "            sleep(sekundes)\n",
    "            return fn(*args, **kwargs)\n",
    "        return wrapper\n",
    "    return velavimas           "
   ]
  },
  {
   "cell_type": "code",
   "execution_count": 200,
   "metadata": {},
   "outputs": [],
   "source": [
    "@param_limitas\n",
    "@velavimas(3)\n",
    "def skaiciai(*args):\n",
    "    print(args)"
   ]
  },
  {
   "cell_type": "code",
   "execution_count": 201,
   "metadata": {},
   "outputs": [
    {
     "name": "stdout",
     "output_type": "stream",
     "text": [
      "funkcija bus atideta 3 sekundems\n",
      "(1, 2)\n"
     ]
    }
   ],
   "source": [
    "skaiciai(1, 2)"
   ]
  },
  {
   "cell_type": "code",
   "execution_count": 202,
   "metadata": {},
   "outputs": [
    {
     "data": {
      "text/plain": [
       "'per daug parametru'"
      ]
     },
     "execution_count": 202,
     "metadata": {},
     "output_type": "execute_result"
    }
   ],
   "source": [
    "skaiciai(1, 2, 3, 4, 5)"
   ]
  },
  {
   "cell_type": "code",
   "execution_count": 203,
   "metadata": {},
   "outputs": [],
   "source": [
    "# Parašykite dekoratorių, kuris leidžia į funkciją įrašyti tik string tipo parametrus.\n",
    "\n",
    "def tik_stringai(fn):\n",
    "    @wraps(fn)\n",
    "    def wrapper(*args, **kwargs):\n",
    "        for zodis in args:\n",
    "            if type(zodis) != str:\n",
    "                raise ValueError('argumentai turi buti string tipo')\n",
    "            else:\n",
    "                return fn(*args, **kwargs)\n",
    "    return wrapper"
   ]
  },
  {
   "cell_type": "code",
   "execution_count": 204,
   "metadata": {},
   "outputs": [],
   "source": [
    "@tik_stringai\n",
    "def spausdinti_teksta(text):\n",
    "    print(text)"
   ]
  },
  {
   "cell_type": "code",
   "execution_count": 205,
   "metadata": {},
   "outputs": [
    {
     "name": "stdout",
     "output_type": "stream",
     "text": [
      "labas vakaras\n"
     ]
    }
   ],
   "source": [
    "spausdinti_teksta('labas vakaras')"
   ]
  },
  {
   "cell_type": "code",
   "execution_count": 206,
   "metadata": {},
   "outputs": [
    {
     "ename": "ValueError",
     "evalue": "argumentai turi buti string tipo",
     "output_type": "error",
     "traceback": [
      "\u001b[1;31m---------------------------------------------------------------------------\u001b[0m",
      "\u001b[1;31mValueError\u001b[0m                                Traceback (most recent call last)",
      "Cell \u001b[1;32mIn[206], line 1\u001b[0m\n\u001b[1;32m----> 1\u001b[0m spausdinti_teksta(\u001b[39m1\u001b[39;49m)\n",
      "Cell \u001b[1;32mIn[203], line 8\u001b[0m, in \u001b[0;36mtik_stringai.<locals>.wrapper\u001b[1;34m(*args, **kwargs)\u001b[0m\n\u001b[0;32m      6\u001b[0m \u001b[39mfor\u001b[39;00m zodis \u001b[39min\u001b[39;00m args:\n\u001b[0;32m      7\u001b[0m     \u001b[39mif\u001b[39;00m \u001b[39mtype\u001b[39m(zodis) \u001b[39m!=\u001b[39m \u001b[39mstr\u001b[39m:\n\u001b[1;32m----> 8\u001b[0m         \u001b[39mraise\u001b[39;00m \u001b[39mValueError\u001b[39;00m(\u001b[39m'\u001b[39m\u001b[39margumentai turi buti string tipo\u001b[39m\u001b[39m'\u001b[39m)\n\u001b[0;32m      9\u001b[0m     \u001b[39melse\u001b[39;00m:\n\u001b[0;32m     10\u001b[0m         \u001b[39mreturn\u001b[39;00m fn(\u001b[39m*\u001b[39margs, \u001b[39m*\u001b[39m\u001b[39m*\u001b[39mkwargs)\n",
      "\u001b[1;31mValueError\u001b[0m: argumentai turi buti string tipo"
     ]
    }
   ],
   "source": [
    "spausdinti_teksta(1)"
   ]
  },
  {
   "cell_type": "code",
   "execution_count": null,
   "metadata": {},
   "outputs": [],
   "source": [
    "import requests # importuojame requests\n",
    "from time import time  # importuojame time modulį\n",
    "\n",
    "def vykdymo_laikas(fn):\n",
    "    @wraps(fn)\n",
    "    def wrapper(*args, **kwargs):\n",
    "        start_time = time()  # fiksuojame starto laiką\n",
    "        result = fn(*args, **kwargs)\n",
    "        # r = requests.get('http://www.cnn.com')  # sukuriame http užklausą\n",
    "        # print(r.status_code)  # spausdiname status code (200 = OK, 404 = Not Found, ir t.t. galima pasiguglinti http status codes)\n",
    "        end_time = time()  # fiksuojame pabaigos laiką\n",
    "        print(f'Parametro {args} vykdymo laikas: {end_time - start_time} sek.')  # atspausdiname laiką, per kurį gaovme atsakymą\n",
    "    return wrapper"
   ]
  },
  {
   "cell_type": "code",
   "execution_count": null,
   "metadata": {},
   "outputs": [],
   "source": [
    "@vykdymo_laikas\n",
    "def svetaines_atsakas(url):\n",
    "    rezultatas = requests.get(url)\n",
    "    print(f'Svetaines atsako laikas: {rezultatas}')"
   ]
  },
  {
   "cell_type": "code",
   "execution_count": null,
   "metadata": {},
   "outputs": [
    {
     "name": "stdout",
     "output_type": "stream",
     "text": [
      "Svetaines atsako laikas: <Response [200]>\n",
      "Parametro ('http://www.cnn.com',) vykdymo laikas: 0.42777299880981445\n"
     ]
    }
   ],
   "source": [
    "svetaines_atsakas('http://www.cnn.com')"
   ]
  },
  {
   "cell_type": "code",
   "execution_count": 282,
   "metadata": {},
   "outputs": [
    {
     "name": "stdout",
     "output_type": "stream",
     "text": [
      "[2, 3, 5, 7, 11, 13, 17, 19, 23, 29, 31, 37]\n",
      "Parametro (40,) vykdymo laikas: 0.00104522705078125 sek.\n"
     ]
    }
   ],
   "source": [
    "@vykdymo_laikas\n",
    "def pirminis3(maks_skaicius):\n",
    "    pirminiu_sarasas = []\n",
    "    for skaicius in range(2, maks_skaicius):\n",
    "        if skaicius == 0 or skaicius == 1:\n",
    "            break\n",
    "        for i in range(skaicius -1, 1, -1):\n",
    "            if skaicius % i == 0:\n",
    "                break\n",
    "        else:\n",
    "            pirminiu_sarasas.append(skaicius)\n",
    "    print(pirminiu_sarasas)\n",
    "\n",
    "pirminis3(40)"
   ]
  }
 ],
 "metadata": {
  "kernelspec": {
   "display_name": "venv",
   "language": "python",
   "name": "python3"
  },
  "language_info": {
   "codemirror_mode": {
    "name": "ipython",
    "version": 3
   },
   "file_extension": ".py",
   "mimetype": "text/x-python",
   "name": "python",
   "nbconvert_exporter": "python",
   "pygments_lexer": "ipython3",
   "version": "3.10.9"
  },
  "orig_nbformat": 4,
  "vscode": {
   "interpreter": {
    "hash": "c45aa5459b9a1cefa759617f524b65e98df9772569b55aaad1035e6eb843a449"
   }
  }
 },
 "nbformat": 4,
 "nbformat_minor": 2
}
